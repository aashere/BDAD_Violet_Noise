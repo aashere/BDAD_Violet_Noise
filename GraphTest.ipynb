{
 "cells": [
  {
   "cell_type": "code",
   "execution_count": 1,
   "metadata": {},
   "outputs": [
    {
     "data": {
      "text/plain": [
       "<Figure size 432x288 with 0 Axes>"
      ]
     },
     "metadata": {},
     "output_type": "display_data"
    }
   ],
   "source": [
    "import networkx as nx\n",
    "import matplotlib.pyplot as plt\n",
    "import matplotlib.cm as cm\n",
    "import time\n",
    "import math\n",
    "\n",
    "\n",
    "%matplotlib inline \n",
    "plt.set_cmap(cm.get_cmap(\"Spectral_r\"))"
   ]
  },
  {
   "cell_type": "code",
   "execution_count": 8,
   "metadata": {},
   "outputs": [],
   "source": [
    "# initialize empty graph, colors indicate source and sink nodes, weights start at 0\n",
    "\n",
    "DG = nx.DiGraph()\n",
    "\n",
    "DG.add_node(1, pos=(0,0), color='green', name='source')\n",
    "DG.add_node(2, pos=(0,1), color='grey', name='pass')\n",
    "DG.add_node(3, pos=(1,0), color='grey', name='pass')\n",
    "DG.add_node(4, pos=(1,1), color='grey', name='pass')\n",
    "DG.add_node(5, pos=(2,0), color='grey', name='pass')\n",
    "DG.add_node(6, pos=(2,1), color='red', name='sink')\n",
    "\n",
    "DG.add_weighted_edges_from([(1, 2, 10), \n",
    "                            (1, 3, 0),\n",
    "                            (2, 4, 0),\n",
    "                            (3, 4, 5),\n",
    "                            (3, 5, 4),\n",
    "                            (4, 6, 1),\n",
    "                            (5, 6, 0)])"
   ]
  },
  {
   "cell_type": "code",
   "execution_count": 9,
   "metadata": {},
   "outputs": [
    {
     "data": {
      "image/png": "[encoded data removed]",
      "text/plain": [
       "<Figure size 432x288 with 1 Axes>"
      ]
     },
     "metadata": {},
     "output_type": "display_data"
    }
   ],
   "source": [
    "def show_graph(G):    \n",
    "    colors = nx.get_edge_attributes(G,'weight').values()\n",
    "    pos = nx.get_node_attributes(G,'pos')\n",
    "    nodecol = nx.get_node_attributes(G, 'color').values()\n",
    "    nx.draw(G, pos, \n",
    "            edge_color=colors,\n",
    "            width=5.0,\n",
    "            with_labels=True,\n",
    "            node_color=nodecol)\n",
    "\n",
    "show_graph(DG)"
   ]
  },
  {
   "cell_type": "code",
   "execution_count": 4,
   "metadata": {},
   "outputs": [],
   "source": [
    "# add orientation properties\n",
    "\n",
    "for (u,v) in DG.edges:\n",
    "    x1 = DG.nodes[u]['pos'][0]\n",
    "    y1 = DG.nodes[u]['pos'][1]\n",
    "    \n",
    "    x2 = DG.nodes[v]['pos'][0]\n",
    "    y2 = DG.nodes[v]['pos'][1]\n",
    "    \n",
    "    if (x1 == x2):\n",
    "        DG.edges[u,v][\"orient\"] = \"vertical\"\n",
    "    else:\n",
    "        DG.edges[u,v][\"orient\"] = \"horizontal\"\n",
    "        \n",
    "#nx.get_edge_attributes(DG,\"orient\")"
   ]
  },
  {
   "cell_type": "code",
   "execution_count": 5,
   "metadata": {},
   "outputs": [
    {
     "name": "stdout",
     "output_type": "stream",
     "text": [
      "horizontal\n",
      "20\n"
     ]
    }
   ],
   "source": [
    "\n",
    "seconds = time.time() % 60\n",
    "switch = (math.floor(seconds/5) * 5) % 10\n",
    "\n",
    "#set fixed variable for how many cars can exit an edge on the 10 second interval at each node, and how many are entering / exiting the system\n",
    "\n",
    "flowrate = 10\n",
    "inrate = 10\n",
    "outrate = 10\n",
    "\n",
    "#switch back and forth between accepting incoming vertical vs incoming horizontal\n",
    "if (switch % 5 == 0):\n",
    "    trafficdir = \"horizontal\"\n",
    "else:\n",
    "    trafficdir = \"vertical\"\n",
    "    \n",
    "print(trafficdir)\n",
    "    \n",
    "for node in DG.nodes:\n",
    "    if DG.nodes[node][\"name\"] == \"source\":\n",
    "        for u,v in DG.out_edges(node):\n",
    "            if DG.edges[u,v]['orient'] == trafficdir:\n",
    "                DG.edges[u,v]['weight'] = DG.edges[u,v]['weight'] + inrate\n",
    "                print(DG.edges[u,v]['weight'] + inrate)\n",
    "    #for green node, every 10 seconds, alternate adding cars to the outgoing weights\n",
    "    elif DG.nodes[node][\"name\"] == \"pass\":\n",
    "        passthrough = 0\n",
    "        for u,v in DG.in_edges(node):\n",
    "            edge = DG.edges[u,v]\n",
    "            if edge['orient'] == trafficdir:\n",
    "                passthrough = min(edge['weight'], flowrate)\n",
    "                DG.edges[u,v]['weight'] = edge['weight'] - passthrough\n",
    "        for u,v in DG.out_edges(node):\n",
    "            edge = DG.edges[u,v]\n",
    "            if edge['orient'] == trafficdir:\n",
    "                DG.edges[u,v]['weight'] = edge['weight'] + passthrough\n",
    "    #for red node, every 10 seconds, alternate removing cars from incoming weight\n",
    "    elif DG.nodes[node][\"name\"] == \"sink\":\n",
    "        for u,v in DG.in_edges(node):\n",
    "            edge = DG.edges[u,v]\n",
    "            if edge['orient'] == trafficdir:\n",
    "                DG.edges[u,v]['weight'] = max(0, edge['weight'] - outrate)"
   ]
  },
  {
   "cell_type": "code",
   "execution_count": 6,
   "metadata": {},
   "outputs": [
    {
     "data": {
      "text/plain": [
       "dict_values([0, 0, 0, 0, 0, 0, 0])"
      ]
     },
     "execution_count": 6,
     "metadata": {},
     "output_type": "execute_result"
    }
   ],
   "source": [
    "nx.get_edge_attributes(DG,'weight').values()"
   ]
  },
  {
   "cell_type": "code",
   "execution_count": 7,
   "metadata": {},
   "outputs": [],
   "source": [
    "#DG.edges[1,2]['weight'] = 10"
   ]
  },
  {
   "cell_type": "code",
   "execution_count": null,
   "metadata": {},
   "outputs": [],
   "source": []
  }
 ],
 "metadata": {
  "kernelspec": {
   "display_name": "Python 3.7.4 base3",
   "language": "python",
   "name": "base3env"
  },
  "language_info": {
   "codemirror_mode": {
    "name": "ipython",
    "version": 3
   },
   "file_extension": ".py",
   "mimetype": "text/x-python",
   "name": "python",
   "nbconvert_exporter": "python",
   "pygments_lexer": "ipython3",
   "version": "3.7.4"
  }
 },
 "nbformat": 4,
 "nbformat_minor": 4
}
