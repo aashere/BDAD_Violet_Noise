{
 "cells": [
  {
   "cell_type": "code",
   "execution_count": 1,
   "metadata": {},
   "outputs": [],
   "source": [
    "import networkx as nx\n",
    "import matplotlib.pyplot as plt\n",
    "import matplotlib.cm as cm\n",
    "import time\n",
    "import math\n",
    "from IPython.display import clear_output\n",
    "    \n",
    "%matplotlib inline \n",
    "#plt.set_cmap(cm.get_cmap(\"Spectral_r\"))"
   ]
  },
  {
   "cell_type": "code",
   "execution_count": 2,
   "metadata": {},
   "outputs": [],
   "source": [
    "# initialize empty graph, colors indicate source and sink nodes, weights start at 0\n",
    "\n",
    "DG = nx.DiGraph()\n",
    "\n",
    "DG.add_node(1, pos=(0,0), color='green', name='source')\n",
    "DG.add_node(2, pos=(0,1), color='grey', name='pass')\n",
    "DG.add_node(3, pos=(1,0), color='grey', name='pass')\n",
    "DG.add_node(4, pos=(1,1), color='grey', name='pass')\n",
    "DG.add_node(5, pos=(2,0), color='grey', name='pass')\n",
    "DG.add_node(6, pos=(2,1), color='red', name='sink')\n",
    "\n",
    "DG.add_weighted_edges_from([(1, 2, 0), \n",
    "                            (1, 3, 0),\n",
    "                            (2, 4, 0),\n",
    "                            (3, 4, 0),\n",
    "                            (3, 5, 0),\n",
    "                            (4, 6, 0),\n",
    "                            (5, 6, 0)])"
   ]
  },
  {
   "cell_type": "code",
   "execution_count": 3,
   "metadata": {},
   "outputs": [],
   "source": [
    "# add orientation properties\n",
    "\n",
    "for (u,v) in DG.edges:\n",
    "    x1 = DG.nodes[u]['pos'][0]\n",
    "    y1 = DG.nodes[u]['pos'][1]\n",
    "    \n",
    "    x2 = DG.nodes[v]['pos'][0]\n",
    "    y2 = DG.nodes[v]['pos'][1]\n",
    "    \n",
    "    if (x1 == x2):\n",
    "        DG.edges[u,v][\"orient\"] = \"vertical\"\n",
    "    else:\n",
    "        DG.edges[u,v][\"orient\"] = \"horizontal\"\n",
    "        \n",
    "#nx.get_edge_attributes(DG,\"orient\")"
   ]
  },
  {
   "cell_type": "code",
   "execution_count": 5,
   "metadata": {},
   "outputs": [
    {
     "data": {
      "image/png": "[encoded data removed]",
      "text/plain": [
       "<Figure size 432x288 with 1 Axes>"
      ]
     },
     "metadata": {},
     "output_type": "display_data"
    },
    {
     "ename": "KeyboardInterrupt",
     "evalue": "",
     "output_type": "error",
     "traceback": [
      "\u001b[0;31m---------------------------------------------------------------------------\u001b[0m",
      "\u001b[0;31mKeyboardInterrupt\u001b[0m                         Traceback (most recent call last)",
      "\u001b[0;32m<ipython-input-5-762b2e0d157a>\u001b[0m in \u001b[0;36m<module>\u001b[0;34m\u001b[0m\n\u001b[1;32m     53\u001b[0m \u001b[0;34m\u001b[0m\u001b[0m\n\u001b[1;32m     54\u001b[0m     \u001b[0mplt\u001b[0m\u001b[0;34m.\u001b[0m\u001b[0mshow\u001b[0m\u001b[0;34m(\u001b[0m\u001b[0;34m)\u001b[0m\u001b[0;34m\u001b[0m\u001b[0;34m\u001b[0m\u001b[0m\n\u001b[0;32m---> 55\u001b[0;31m     \u001b[0mtime\u001b[0m\u001b[0;34m.\u001b[0m\u001b[0msleep\u001b[0m\u001b[0;34m(\u001b[0m\u001b[0;36m1\u001b[0m\u001b[0;34m)\u001b[0m\u001b[0;34m\u001b[0m\u001b[0;34m\u001b[0m\u001b[0m\n\u001b[0m\u001b[1;32m     56\u001b[0m \u001b[0;34m\u001b[0m\u001b[0m\n\u001b[1;32m     57\u001b[0m \u001b[0;34m\u001b[0m\u001b[0m\n",
      "\u001b[0;31mKeyboardInterrupt\u001b[0m: "
     ]
    }
   ],
   "source": [
    "flowrate = 10\n",
    "inrate = 15\n",
    "outrate = 5\n",
    "\n",
    "\n",
    "for i in range(50):\n",
    "    if (i % 2 == 0):\n",
    "        trafficdir = \"horizontal\"\n",
    "    else:\n",
    "        trafficdir = \"vertical\"\n",
    "\n",
    "    for node in DG.nodes:\n",
    "        if DG.nodes[node][\"name\"] == \"source\":\n",
    "            for u,v in DG.out_edges(node):\n",
    "                edge = DG.edges[u,v]\n",
    "                if edge['orient'] == trafficdir:\n",
    "                    update = {(u,v):{\"weight\": edge['weight'] + inrate}}\n",
    "                    nx.set_edge_attributes(DG, update)\n",
    "        \n",
    "        elif DG.nodes[node][\"name\"] == \"pass\":\n",
    "            passthrough = 0\n",
    "            for u,v in DG.in_edges(node):\n",
    "                edge = DG.edges[u,v]\n",
    "                if edge['orient'] == trafficdir:\n",
    "                    passthrough = passthrough + min(edge['weight'], flowrate)\n",
    "                    update = {(u,v):{\"weight\":  edge['weight'] - passthrough}}\n",
    "                    nx.set_edge_attributes(DG, update)\n",
    "            \n",
    "            pipes = len(DG.out_edges(node))\n",
    "            passthrough = passthrough / pipes\n",
    "            for u,v in DG.out_edges(node):\n",
    "                edge = DG.edges[u,v]\n",
    "                update = {(u,v):{\"weight\":  edge['weight'] + passthrough}}\n",
    "                nx.set_edge_attributes(DG, update)\n",
    "        \n",
    "        elif DG.nodes[node][\"name\"] == \"sink\":\n",
    "            for u,v in DG.in_edges(node):\n",
    "                edge = DG.edges[u,v]\n",
    "                if edge['orient'] == trafficdir:\n",
    "                    update = {(u,v):{\"weight\": max(0, edge['weight'] - outrate)}}\n",
    "                    nx.set_edge_attributes(DG, update)\n",
    "    \n",
    "    clear_output(wait=True)\n",
    "    colors = nx.get_edge_attributes(DG,'weight').values()\n",
    "    pos = nx.get_node_attributes(DG,'pos')\n",
    "    nodecol = nx.get_node_attributes(DG, 'color').values()\n",
    "    nx.draw(DG, pos, \n",
    "            edge_color=colors,\n",
    "            width=5.0,\n",
    "            with_labels=True,\n",
    "            node_color=nodecol)\n",
    "    nx.draw_networkx_edge_labels(DG,pos,edge_labels=nx.get_edge_attributes(DG,\"weight\"),font_color='red')\n",
    "    \n",
    "    plt.show()\n",
    "    time.sleep(1)\n",
    "    \n",
    "        \n",
    "        "
   ]
  },
  {
   "cell_type": "code",
   "execution_count": null,
   "metadata": {},
   "outputs": [],
   "source": []
  }
 ],
 "metadata": {
  "kernelspec": {
   "display_name": "Python 3.7.4 base3",
   "language": "python",
   "name": "base3env"
  },
  "language_info": {
   "codemirror_mode": {
    "name": "ipython",
    "version": 3
   },
   "file_extension": ".py",
   "mimetype": "text/x-python",
   "name": "python",
   "nbconvert_exporter": "python",
   "pygments_lexer": "ipython3",
   "version": "3.7.4"
  }
 },
 "nbformat": 4,
 "nbformat_minor": 4
}
