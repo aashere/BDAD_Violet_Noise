{
 "cells": [
  {
   "cell_type": "code",
   "execution_count": null,
   "metadata": {},
   "outputs": [],
   "source": [
    "import networkx as nx\n",
    "import matplotlib.pyplot as plt\n",
    "import matplotlib.cm as cm\n",
    "import time\n",
    "import math\n",
    "import itertools\n",
    "from IPython.display import clear_output\n",
    "import numpy as np\n",
    "\n",
    "%matplotlib inline \n",
    "#plt.set_cmap(cm.get_cmap(\"Spectral_r\"))"
   ]
  },
  {
   "cell_type": "markdown",
   "metadata": {},
   "source": [
    "Transposing cartesian coordinates to latitude / longitude \n",
    "\n",
    "https://math.stackexchange.com/questions/296794/finding-the-transform-matrix-from-4-projected-points-with-javascript/339033#339033\n",
    "\n",
    "\n",
    "| var | cartesian | GPS |\n",
    "|-----|-----------|-------------------------|\n",
    "| x1  | (0,0)     | (40.750885, -73.998169) |\n",
    "| x2  | (0,28)    | (40.768575, -73.985212) |\n",
    "| x3  | (10,0)    | (40.743195, -73.979931) |\n",
    "| x4  | (10,28)   | (40.760918, -73.966995) |\n",
    "\n",
    "\n",
    "Below are just helpful calculations for getting the final combined matrix that transforms from source to destination"
   ]
  },
  {
   "cell_type": "code",
   "execution_count": null,
   "metadata": {},
   "outputs": [],
   "source": [
    "xC1 = (0,0)\n",
    "xC2 = (0,28)\n",
    "xC3 = (10,0)\n",
    "xC4 = (10,28)\n",
    "\n",
    "xLL1 = (40.750885, -73.998169)\n",
    "xLL2 = (40.768575, -73.985212)\n",
    "xLL3 = (40.743195, -73.979931)\n",
    "xLL4 = (40.760918, -73.966995)\n",
    "\n",
    "m_AC = np.mat([[xC1[0], xC2[0], xC3[0]], [xC1[1], xC2[1], xC3[1]], [1, 1, 1]])\n",
    "m_BC = np.array(list(xC4) + [1]).reshape(-1,1)\n",
    "lambda_C = np.matmul(np.linalg.inv(m_AC), m_BC)\n",
    "lambda_C_ext = np.repeat(np.transpose(lambda_C), repeats=3,axis=0)\n",
    "transform_C =  np.multiply(lambda_C_ext, m_AC)\n",
    "\n",
    "m_ALL = np.mat([[xLL1[0], xLL2[0], xLL3[0]], [xLL1[1], xLL2[1], xLL3[1]], [1, 1, 1]])\n",
    "m_BLL = np.array(list(xLL4) + [1]).reshape(-1,1)\n",
    "lambda_LL = np.matmul(np.linalg.inv(m_ALL), m_BLL)\n",
    "lambda_LL_ext = np.repeat(np.transpose(lambda_LL), repeats=3,axis=0)\n",
    "transform_LL =  np.multiply(lambda_LL_ext, m_ALL)\n",
    "\n",
    "fullmap = transform_LL * np.linalg.inv(transform_C)\n",
    "\n",
    "def get_gps_coords(x, y):\n",
    "    m_coords = np.transpose(np.mat([x, y, 1]))\n",
    "    m_output = np.matmul(fullmap, m_coords)\n",
    "    lat = np.around(m_output[0,0] / m_output[2,0], decimals=6)\n",
    "    long = np.around(m_output[1,0] / m_output[2,0], decimals=6)\n",
    "    return (lat, long)\n",
    "\n",
    "#TEST\n",
    "tests = [get_gps_coords(*xC1) == xLL1,\n",
    "get_gps_coords(*xC2) == xLL2,\n",
    "get_gps_coords(*xC3) == xLL3,\n",
    "get_gps_coords(*xC4) == xLL4]\n",
    "\n",
    "print(all(tests))"
   ]
  },
  {
   "cell_type": "code",
   "execution_count": null,
   "metadata": {},
   "outputs": [],
   "source": [
    "cart_Xs = [0, 2, 4, 6, 7, 8, 9, 10]\n",
    "name_Xs = dict(zip(cart_Xs, [\"9\",\"8\",\"7\",\"6\",\"5\",\"Madison\",\"Park\",\"Lexington\",\"3\"]))\n",
    "cart_Ys = list(range(0,29))\n",
    "name_Ys = dict(zip(cart_Ys, [str(i+30) for i in cart_Ys]))"
   ]
  },
  {
   "cell_type": "code",
   "execution_count": null,
   "metadata": {},
   "outputs": [],
   "source": [
    "DG = nx.DiGraph()\n",
    "coords = list(itertools.product(cart_Xs,cart_Ys))\n",
    "for nodeid, pair in enumerate(coords):\n",
    "    intersection = name_Xs[pair[0]] + \"_\" +  name_Ys[pair[1]]\n",
    "    gps = get_gps_coords(*pair)\n",
    "    DG.add_node(nodeid, cartesian=pair, name = intersection, latitude = gps[0], longitude = gps[1], nodetype=\"inner\", color=\"#e1e3f0\", volume_rate=dict())\n",
    "\n",
    "nodes = {v: k for k, v in nx.get_node_attributes(DG, \"cartesian\").items()}\n",
    "\n",
    "for pair in nodes:\n",
    "    \n",
    "    nextave = cart_Xs.index(pair[0])+1\n",
    "    if nextave >= len(cart_Xs):\n",
    "        right = (-1,-1)\n",
    "    else:\n",
    "        right = (cart_Xs[nextave] , pair[1])\n",
    "    above = (pair[0], pair[1] + 1)\n",
    "\n",
    "    eastboundst = (pair[1] % 2) == 0   \n",
    "    \n",
    "    if above in nodes:#  and pair[0] not in {1,6}:\n",
    "        \n",
    "        if pair[0] in [2, 6, 8, 10]:\n",
    "            DG.add_edge(nodes[pair], nodes[above], direction='north', lanes = 4, name = name_Xs[pair[0]] + \"_ave\")\n",
    "        elif pair[0] == 9:\n",
    "            DG.add_edge(nodes[pair], nodes[above], direction='north', lanes = 2, name = name_Xs[pair[0]] + \"_ave\")\n",
    "            DG.add_edge(nodes[above], nodes[pair], direction='south', lanes = 2, name = name_Xs[pair[0]] + \"_ave\")\n",
    "        else:\n",
    "            DG.add_edge(nodes[above], nodes[pair], direction='south', lanes = 4, name = name_Xs[pair[0]] + \"_ave\")\n",
    "            \n",
    "    if right in nodes: # and pair[1] not in {1,6}:\n",
    "        if pair[1] in [4, 12, 27]:\n",
    "            DG.add_edge(nodes[pair], nodes[right], direction='east', lanes = 2, name = name_Ys[pair[1]] + \"_st\")\n",
    "            DG.add_edge(nodes[right], nodes[pair], direction='west', lanes = 2, name = name_Ys[pair[1]] + \"_st\")\n",
    "        if eastboundst:\n",
    "            DG.add_edge(nodes[pair], nodes[right], direction='east', lanes = 2, name = name_Ys[pair[1]] + \"_st\")\n",
    "        else:\n",
    "            DG.add_edge(nodes[right], nodes[pair], direction='west', lanes = 2, name = name_Ys[pair[1]] + \"_st\")\n",
    "            \n",
    "\n",
    "for node in DG.nodes:\n",
    "    border_west = DG.nodes[node][\"cartesian\"][0] == 0\n",
    "    border_east = DG.nodes[node][\"cartesian\"][0] == 10\n",
    "    \n",
    "    border_north = DG.nodes[node][\"cartesian\"][1] == 0\n",
    "    border_south = DG.nodes[node][\"cartesian\"][1] == 28\n",
    "    \n",
    "    border = (border_west or border_east or border_north or border_south)\n",
    "    \n",
    "    if DG.nodes[node][\"cartesian\"][0] == 0: # west border\n",
    "        if DG.nodes[node][\"cartesian\"][1] in [4, 12, 27]:\n",
    "            DG.nodes[node][\"nodetype\"] = \"source_sink\"\n",
    "            DG.nodes[node][\"color\"] = \"yellow\"\n",
    "        elif len([i for i in DG.out_edges(node) if DG.edges[i]['direction'] == 'east']) > 0:\n",
    "            DG.nodes[node][\"nodetype\"] = \"source\"\n",
    "            DG.nodes[node][\"color\"] = \"green\"\n",
    "        else:\n",
    "            DG.nodes[node][\"nodetype\"] = \"sink\"\n",
    "            DG.nodes[node][\"color\"] = \"red\"\n",
    "    elif DG.nodes[node][\"cartesian\"][0] == 10: # east border\n",
    "        if DG.nodes[node][\"cartesian\"][1] in [4, 12, 27]:\n",
    "            DG.nodes[node][\"nodetype\"] = \"source_sink\"\n",
    "            DG.nodes[node][\"color\"] = \"yellow\"\n",
    "        elif len([i for i in DG.out_edges(node) if DG.edges[i]['direction'] == 'west']) > 0:\n",
    "            DG.nodes[node][\"nodetype\"] = \"source\"\n",
    "            DG.nodes[node][\"color\"] = \"green\"\n",
    "        else:\n",
    "            DG.nodes[node][\"nodetype\"] = \"sink\"\n",
    "            DG.nodes[node][\"color\"] = \"red\"\n",
    "    elif DG.nodes[node][\"cartesian\"][1] == 28: # north border\n",
    "        if DG.nodes[node][\"cartesian\"][0] == 9:\n",
    "            DG.nodes[node][\"nodetype\"] = \"source_sink\"\n",
    "            DG.nodes[node][\"color\"] = \"yellow\"\n",
    "        elif len([i for i in DG.out_edges(node) if DG.edges[i]['direction'] == 'south']) > 0:\n",
    "            DG.nodes[node][\"nodetype\"] = \"source\"\n",
    "            DG.nodes[node][\"color\"] = \"green\"\n",
    "        else:\n",
    "            DG.nodes[node][\"nodetype\"] = \"sink\"\n",
    "            DG.nodes[node][\"color\"] = \"red\"                \n",
    "    elif DG.nodes[node][\"cartesian\"][1] == 0: # south border\n",
    "        if DG.nodes[node][\"cartesian\"][0] == 9:\n",
    "            DG.nodes[node][\"nodetype\"] = \"source_sink\"\n",
    "            DG.nodes[node][\"color\"] = \"yellow\"\n",
    "        elif len([i for i in DG.out_edges(node) if DG.edges[i]['direction'] == 'north']) > 0:\n",
    "            DG.nodes[node][\"nodetype\"] = \"source\"\n",
    "            DG.nodes[node][\"color\"] = \"green\"\n",
    "        else:\n",
    "            DG.nodes[node][\"nodetype\"] = \"sink\"\n",
    "            DG.nodes[node][\"color\"] = \"red\"        \n",
    "    \n",
    "    \n",
    "    #if border:\n",
    "     #   print(DG.nodes[node][\"name\"])\n",
    "        #DG.nodes[node][\"nodetype\"] = \"source\"\n",
    "        #DG.nodes[node][\"color\"] = \"green\"\n",
    "#     elif border:\n",
    "#         DG.nodes[node][\"nodetype\"] = \"sink\"\n",
    "#         DG.nodes[node][\"color\"] = \"red\""
   ]
  },
  {
   "cell_type": "code",
   "execution_count": null,
   "metadata": {},
   "outputs": [],
   "source": [
    "mins = [i*60 for i in list(range(24))]\n",
    "rate = [int(i) for i in list(np.ones(24)*2)]\n",
    "\n",
    "defaultrate = dict(zip(mins,rate))\n",
    "\n",
    "for node in DG.nodes:\n",
    "    if \"source\" in DG.nodes[node][\"nodetype\"]:\n",
    "        DG.nodes[node][\"volume_rate\"] = defaultrate"
   ]
  },
  {
   "cell_type": "code",
   "execution_count": null,
   "metadata": {},
   "outputs": [],
   "source": []
  },
  {
   "cell_type": "code",
   "execution_count": null,
   "metadata": {},
   "outputs": [],
   "source": [
    "mins = [i*60 for i in list(range(24))]\n",
    "rate = [int(i) for i in list(np.ones(24)*2)]\n",
    "\n",
    "defaultrate = dict(zip(mins,rate))\n",
    "defaultrate"
   ]
  },
  {
   "cell_type": "code",
   "execution_count": null,
   "metadata": {},
   "outputs": [],
   "source": [
    "pos = nx.get_node_attributes(DG,'cartesian')\n",
    "nodecol = nx.get_node_attributes(DG, 'color').values()\n",
    "nodename = nx.get_node_attributes(DG, 'name')\n",
    "\n",
    "plt.figure(figsize=(10,20)) \n",
    "nx.draw(DG, \n",
    "        pos, \n",
    "        width=2,\n",
    "        node_color=nodecol,\n",
    "        font_color='blue',\n",
    "        node_size=500,\n",
    "        with_labels=True)\n",
    "    \n",
    "stnames = nx.get_edge_attributes(DG,\"name\")\n",
    "for key in stnames:\n",
    "    stnames[key] = stnames[key][:5]\n",
    "    \n",
    "#nx.draw_networkx_edge_labels(DG,pos,edge_labels=stnames,font_color='black')\n",
    "\n",
    "plt.show()"
   ]
  },
  {
   "cell_type": "code",
   "execution_count": null,
   "metadata": {},
   "outputs": [],
   "source": [
    "import networkx as nx\n",
    "import matplotlib.pyplot as plt\n",
    "import pprint\n",
    "#from GraphTest import DG\n",
    "import time\n",
    "\n",
    "# Dict of all paths from every source to every sink.\n",
    "# This gives all the routes. It is a dict that maps\n",
    "# (source, sink): [list of routes in ascending order of size]\n",
    "\n",
    "#Min path size - we can adjust this\n",
    "MIN_PATH_SIZE = 5\n",
    "\n",
    "\n",
    "def filter_edge(edge, node, sink):\n",
    "    if DG.nodes[sink]['cartesian'][0]-DG.nodes[node]['cartesian'][0] < 0 and DG.edges[edge]['direction'] == 'west':\n",
    "        return True\n",
    "    if DG.nodes[sink]['cartesian'][0]-DG.nodes[node]['cartesian'][0] > 0 and DG.edges[edge]['direction'] == 'east':\n",
    "        return True\n",
    "    if DG.nodes[sink]['cartesian'][1]-DG.nodes[node]['cartesian'][1] < 0 and DG.edges[edge]['direction'] == 'south':\n",
    "        return True\n",
    "    if DG.nodes[sink]['cartesian'][1]-DG.nodes[node]['cartesian'][1] > 0 and DG.edges[edge]['direction'] == 'north':\n",
    "        return True\n",
    "    if (DG.nodes[sink]['cartesian'][0]-DG.nodes[node]['cartesian'][0] == 0 and \n",
    "        DG.nodes[sink]['cartesian'][1]-DG.nodes[node]['cartesian'][1] < 0 and\n",
    "        DG.edges[edge]['direction'] == 'south'):\n",
    "        return True\n",
    "    if (DG.nodes[sink]['cartesian'][0]-DG.nodes[node]['cartesian'][0] == 0 and \n",
    "        DG.nodes[sink]['cartesian'][1]-DG.nodes[node]['cartesian'][1] > 0 and\n",
    "        DG.edges[edge]['direction'] == 'north'):\n",
    "        return True\n",
    "    if (DG.nodes[sink]['cartesian'][1]-DG.nodes[node]['cartesian'][1] == 0 and \n",
    "        DG.nodes[sink]['cartesian'][0]-DG.nodes[node]['cartesian'][0] < 0 and\n",
    "        DG.edges[edge]['direction'] == 'west'):\n",
    "        return True\n",
    "    if (DG.nodes[sink]['cartesian'][1]-DG.nodes[node]['cartesian'][1] == 0 and \n",
    "        DG.nodes[sink]['cartesian'][0]-DG.nodes[node]['cartesian'][0] > 0 and\n",
    "        DG.edges[edge]['direction'] == 'east'):\n",
    "        return True\n",
    "    return False                                           \n",
    "\n",
    "def discover_paths(node, sink, pair, visited, cur_path, paths):        \n",
    "        # Mark the current node as visited and push it to the path\n",
    "        visited[node] = True\n",
    "        cur_path.append(node)\n",
    "\n",
    "        # If we have reached the sink, store the path in paths\n",
    "        if node == sink:\n",
    "            new_path = []\n",
    "            for n in cur_path:\n",
    "                new_path.append(n)\n",
    "            if len(new_path) >= MIN_PATH_SIZE:\n",
    "                paths[pair].append(new_path)\n",
    "        # Otherwise, continue DFS for unvisited neighbors\n",
    "        else:\n",
    "            for edge in DG.out_edges(node):\n",
    "                nbh = edge[1]\n",
    "                if filter_edge(edge, node, sink):\n",
    "                    if visited[nbh] is False:\n",
    "                        discover_paths(nbh, sink, pair, visited, cur_path, paths)\n",
    "\n",
    "        # If we have finished exploring the node, set it to unvisited and\n",
    "        # remove it from cur_path so that we can use it again for future paths\n",
    "        visited[node] = False\n",
    "        cur_path.pop()\n"
   ]
  },
  {
   "cell_type": "code",
   "execution_count": null,
   "metadata": {},
   "outputs": [],
   "source": [
    "paths = dict()\n",
    "s = 2\n",
    "t = 207\n",
    "pair = (s,t)\n",
    "paths[pair] = []\n",
    "# List storing the current path from source to sink\n",
    "cur_path = []\n",
    "# Visited dict for nodes\n",
    "visited = dict()\n",
    "for node in DG.nodes:\n",
    "    visited[node] = False\n",
    "# Generate all possible paths\n",
    "discover_paths(s, t, pair, visited, cur_path, paths)\n",
    "paths[pair].sort(key=lambda x : len(x))\n",
    "print(pair)"
   ]
  },
  {
   "cell_type": "code",
   "execution_count": null,
   "metadata": {},
   "outputs": [],
   "source": [
    "import json\n",
    "\n",
    "with open(\"test.json\", 'w') as outf:\n",
    "    jsonformat = json.dumps({\"%s|%s\" % k:v for k, v in paths.items()})\n",
    "    outf.write(jsonformat)"
   ]
  },
  {
   "cell_type": "code",
   "execution_count": null,
   "metadata": {},
   "outputs": [],
   "source": [
    "with open(\"test.json\", \"r\") as inf:\n",
    "    data = json.load(inf)\n",
    "    pairdict = {tuple([int(i) for i in k.split(\"|\")]): v for k, v in data.items()}\n",
    "    "
   ]
  },
  {
   "cell_type": "code",
   "execution_count": null,
   "metadata": {},
   "outputs": [],
   "source": [
    "import datetime\n",
    "datetime.date(2021,5,15) - datetime.date(2021,4,4)"
   ]
  },
  {
   "cell_type": "code",
   "execution_count": null,
   "metadata": {},
   "outputs": [],
   "source": [
    "json.dumps({\"%s|%s\" % k:v for k, v in paths.items()})"
   ]
  },
  {
   "cell_type": "code",
   "execution_count": null,
   "metadata": {},
   "outputs": [],
   "source": [
    "for i, n in enumerate(DG.edges):\n",
    "    print(n)"
   ]
  },
  {
   "cell_type": "code",
   "execution_count": null,
   "metadata": {},
   "outputs": [],
   "source": []
  },
  {
   "cell_type": "code",
   "execution_count": null,
   "metadata": {},
   "outputs": [],
   "source": [
    "filt = set(itertools.chain.from_iterable(paths[pair]))"
   ]
  },
  {
   "cell_type": "code",
   "execution_count": null,
   "metadata": {},
   "outputs": [],
   "source": [
    "pos = nx.get_node_attributes(DG.subgraph(list(filt)),'cartesian')\n",
    "nodecol = nx.get_node_attributes(DG.subgraph(list(filt)), 'color').values()\n",
    "nodename = nx.get_node_attributes(DG.subgraph(list(filt)), 'name')\n",
    "\n",
    "plt.figure(figsize=(15,5)) \n",
    "nx.draw(DG.subgraph(list(filt)), \n",
    "        pos, \n",
    "        width=2,\n",
    "        node_color=nodecol,\n",
    "        font_color='blue',\n",
    "        node_size=500,\n",
    "        with_labels=True)\n",
    "    \n",
    "stnames = nx.get_edge_attributes(DG.subgraph(list(filt)),\"name\")\n",
    "for key in stnames:\n",
    "    stnames[key] = stnames[key][:5]\n",
    "    \n",
    "nx.draw_networkx_edge_labels(DG.subgraph(list(filt)),pos,edge_labels=stnames,font_color='black')\n",
    "\n",
    "plt.show()"
   ]
  },
  {
   "cell_type": "code",
   "execution_count": null,
   "metadata": {},
   "outputs": [],
   "source": [
    "with open(\"microsimulation/sumoDataGeneration/data/pathdict.json\", 'r') as inf:\n",
    "    paths = json.load(inf)\n",
    "    paths = {tuple([int(i) for i in k.split(\"|\")]): v for k, v in paths.items()}"
   ]
  },
  {
   "cell_type": "code",
   "execution_count": null,
   "metadata": {},
   "outputs": [],
   "source": [
    "[i for i in paths if i['path_id' == 1]]"
   ]
  },
  {
   "cell_type": "code",
   "execution_count": 203,
   "metadata": {},
   "outputs": [],
   "source": [
    "import os\n",
    "import pandas\n",
    "\n",
    "path = os.path.join(os.getcwd(),\"microsimulation\",\"Lambdas\",\"lambdas.csv\")\n",
    "df = pandas.read_csv(path)"
   ]
  },
  {
   "cell_type": "code",
   "execution_count": 166,
   "metadata": {},
   "outputs": [
    {
     "data": {
      "text/plain": [
       "array([15])"
      ]
     },
     "execution_count": 166,
     "metadata": {},
     "output_type": "execute_result"
    }
   ],
   "source": [
    "df.interval.unique()"
   ]
  },
  {
   "cell_type": "code",
   "execution_count": 167,
   "metadata": {},
   "outputs": [
    {
     "data": {
      "text/plain": [
       "(96, 1)"
      ]
     },
     "execution_count": 167,
     "metadata": {},
     "output_type": "execute_result"
    }
   ],
   "source": [
    "df.groupby(['hour','minute']).agg({'node_id':\"nunique\"}).shape"
   ]
  },
  {
   "cell_type": "code",
   "execution_count": 204,
   "metadata": {},
   "outputs": [],
   "source": [
    "df = df.drop(['road_name','segment_start','segment_end','direction','interval'],axis=1)"
   ]
  },
  {
   "cell_type": "code",
   "execution_count": 179,
   "metadata": {},
   "outputs": [],
   "source": [
    "df.lambda_car = df.lambda_car * 5"
   ]
  },
  {
   "cell_type": "code",
   "execution_count": 206,
   "metadata": {},
   "outputs": [],
   "source": [
    "df = df.groupby(['node_id','year','month','day','hour','minute']).mean()['lambda_car'].to_frame().reset_index()"
   ]
  },
  {
   "cell_type": "code",
   "execution_count": 187,
   "metadata": {},
   "outputs": [],
   "source": [
    "df.lambda_car = df.lambda_car.fillna(0).astype(int)"
   ]
  },
  {
   "cell_type": "code",
   "execution_count": 209,
   "metadata": {},
   "outputs": [
    {
     "data": {
      "text/html": [
       "<div>\n",
       "<style scoped>\n",
       "    .dataframe tbody tr th:only-of-type {\n",
       "        vertical-align: middle;\n",
       "    }\n",
       "\n",
       "    .dataframe tbody tr th {\n",
       "        vertical-align: top;\n",
       "    }\n",
       "\n",
       "    .dataframe thead th {\n",
       "        text-align: right;\n",
       "    }\n",
       "</style>\n",
       "<table border=\"1\" class=\"dataframe\">\n",
       "  <thead>\n",
       "    <tr style=\"text-align: right;\">\n",
       "      <th></th>\n",
       "      <th>node_id</th>\n",
       "      <th>year</th>\n",
       "      <th>month</th>\n",
       "      <th>day</th>\n",
       "      <th>hour</th>\n",
       "      <th>minute</th>\n",
       "      <th>lambda_car</th>\n",
       "    </tr>\n",
       "  </thead>\n",
       "  <tbody>\n",
       "    <tr>\n",
       "      <td>5460</td>\n",
       "      <td>202</td>\n",
       "      <td>2018</td>\n",
       "      <td>7</td>\n",
       "      <td>24</td>\n",
       "      <td>3</td>\n",
       "      <td>30</td>\n",
       "      <td>0.750000</td>\n",
       "    </tr>\n",
       "    <tr>\n",
       "      <td>5465</td>\n",
       "      <td>202</td>\n",
       "      <td>2018</td>\n",
       "      <td>7</td>\n",
       "      <td>24</td>\n",
       "      <td>4</td>\n",
       "      <td>45</td>\n",
       "      <td>0.800000</td>\n",
       "    </tr>\n",
       "    <tr>\n",
       "      <td>5556</td>\n",
       "      <td>202</td>\n",
       "      <td>2018</td>\n",
       "      <td>7</td>\n",
       "      <td>25</td>\n",
       "      <td>3</td>\n",
       "      <td>30</td>\n",
       "      <td>0.833333</td>\n",
       "    </tr>\n",
       "    <tr>\n",
       "      <td>5559</td>\n",
       "      <td>202</td>\n",
       "      <td>2018</td>\n",
       "      <td>7</td>\n",
       "      <td>25</td>\n",
       "      <td>4</td>\n",
       "      <td>15</td>\n",
       "      <td>0.833333</td>\n",
       "    </tr>\n",
       "    <tr>\n",
       "      <td>5560</td>\n",
       "      <td>202</td>\n",
       "      <td>2018</td>\n",
       "      <td>7</td>\n",
       "      <td>25</td>\n",
       "      <td>4</td>\n",
       "      <td>30</td>\n",
       "      <td>0.833333</td>\n",
       "    </tr>\n",
       "    <tr>\n",
       "      <td>...</td>\n",
       "      <td>...</td>\n",
       "      <td>...</td>\n",
       "      <td>...</td>\n",
       "      <td>...</td>\n",
       "      <td>...</td>\n",
       "      <td>...</td>\n",
       "      <td>...</td>\n",
       "    </tr>\n",
       "    <tr>\n",
       "      <td>5486</td>\n",
       "      <td>202</td>\n",
       "      <td>2018</td>\n",
       "      <td>7</td>\n",
       "      <td>24</td>\n",
       "      <td>10</td>\n",
       "      <td>0</td>\n",
       "      <td>8.571429</td>\n",
       "    </tr>\n",
       "    <tr>\n",
       "      <td>5579</td>\n",
       "      <td>202</td>\n",
       "      <td>2018</td>\n",
       "      <td>7</td>\n",
       "      <td>25</td>\n",
       "      <td>9</td>\n",
       "      <td>15</td>\n",
       "      <td>8.625000</td>\n",
       "    </tr>\n",
       "    <tr>\n",
       "      <td>5421</td>\n",
       "      <td>202</td>\n",
       "      <td>2018</td>\n",
       "      <td>7</td>\n",
       "      <td>23</td>\n",
       "      <td>17</td>\n",
       "      <td>45</td>\n",
       "      <td>8.857143</td>\n",
       "    </tr>\n",
       "    <tr>\n",
       "      <td>5487</td>\n",
       "      <td>202</td>\n",
       "      <td>2018</td>\n",
       "      <td>7</td>\n",
       "      <td>24</td>\n",
       "      <td>10</td>\n",
       "      <td>15</td>\n",
       "      <td>9.000000</td>\n",
       "    </tr>\n",
       "    <tr>\n",
       "      <td>5582</td>\n",
       "      <td>202</td>\n",
       "      <td>2018</td>\n",
       "      <td>7</td>\n",
       "      <td>25</td>\n",
       "      <td>10</td>\n",
       "      <td>0</td>\n",
       "      <td>9.000000</td>\n",
       "    </tr>\n",
       "  </tbody>\n",
       "</table>\n",
       "<p>194 rows × 7 columns</p>\n",
       "</div>"
      ],
      "text/plain": [
       "      node_id  year  month  day  hour  minute  lambda_car\n",
       "5460      202  2018      7   24     3      30    0.750000\n",
       "5465      202  2018      7   24     4      45    0.800000\n",
       "5556      202  2018      7   25     3      30    0.833333\n",
       "5559      202  2018      7   25     4      15    0.833333\n",
       "5560      202  2018      7   25     4      30    0.833333\n",
       "...       ...   ...    ...  ...   ...     ...         ...\n",
       "5486      202  2018      7   24    10       0    8.571429\n",
       "5579      202  2018      7   25     9      15    8.625000\n",
       "5421      202  2018      7   23    17      45    8.857143\n",
       "5487      202  2018      7   24    10      15    9.000000\n",
       "5582      202  2018      7   25    10       0    9.000000\n",
       "\n",
       "[194 rows x 7 columns]"
      ]
     },
     "execution_count": 209,
     "metadata": {},
     "output_type": "execute_result"
    }
   ],
   "source": [
    "df[df.node_id == 202].sort_values(\"lambda_car\")"
   ]
  },
  {
   "cell_type": "code",
   "execution_count": 190,
   "metadata": {},
   "outputs": [],
   "source": [
    "coords = pandas.DataFrame([[i, DG.nodes[i]['cartesian'][0], DG.nodes[i]['cartesian'][1]] for i in DG.nodes if 'source' in DG.nodes[i]['nodetype']], columns=['node_id','x','y'])"
   ]
  },
  {
   "cell_type": "code",
   "execution_count": 191,
   "metadata": {},
   "outputs": [
    {
     "data": {
      "text/html": [
       "<div>\n",
       "<style scoped>\n",
       "    .dataframe tbody tr th:only-of-type {\n",
       "        vertical-align: middle;\n",
       "    }\n",
       "\n",
       "    .dataframe tbody tr th {\n",
       "        vertical-align: top;\n",
       "    }\n",
       "\n",
       "    .dataframe thead th {\n",
       "        text-align: right;\n",
       "    }\n",
       "</style>\n",
       "<table border=\"1\" class=\"dataframe\">\n",
       "  <thead>\n",
       "    <tr style=\"text-align: right;\">\n",
       "      <th></th>\n",
       "      <th>node_id</th>\n",
       "      <th>x</th>\n",
       "      <th>y</th>\n",
       "    </tr>\n",
       "  </thead>\n",
       "  <tbody>\n",
       "    <tr>\n",
       "      <td>0</td>\n",
       "      <td>0</td>\n",
       "      <td>0</td>\n",
       "      <td>0</td>\n",
       "    </tr>\n",
       "    <tr>\n",
       "      <td>1</td>\n",
       "      <td>2</td>\n",
       "      <td>0</td>\n",
       "      <td>2</td>\n",
       "    </tr>\n",
       "    <tr>\n",
       "      <td>2</td>\n",
       "      <td>4</td>\n",
       "      <td>0</td>\n",
       "      <td>4</td>\n",
       "    </tr>\n",
       "    <tr>\n",
       "      <td>3</td>\n",
       "      <td>6</td>\n",
       "      <td>0</td>\n",
       "      <td>6</td>\n",
       "    </tr>\n",
       "    <tr>\n",
       "      <td>4</td>\n",
       "      <td>8</td>\n",
       "      <td>0</td>\n",
       "      <td>8</td>\n",
       "    </tr>\n",
       "    <tr>\n",
       "      <td>5</td>\n",
       "      <td>10</td>\n",
       "      <td>0</td>\n",
       "      <td>10</td>\n",
       "    </tr>\n",
       "    <tr>\n",
       "      <td>6</td>\n",
       "      <td>12</td>\n",
       "      <td>0</td>\n",
       "      <td>12</td>\n",
       "    </tr>\n",
       "    <tr>\n",
       "      <td>7</td>\n",
       "      <td>14</td>\n",
       "      <td>0</td>\n",
       "      <td>14</td>\n",
       "    </tr>\n",
       "    <tr>\n",
       "      <td>8</td>\n",
       "      <td>16</td>\n",
       "      <td>0</td>\n",
       "      <td>16</td>\n",
       "    </tr>\n",
       "    <tr>\n",
       "      <td>9</td>\n",
       "      <td>18</td>\n",
       "      <td>0</td>\n",
       "      <td>18</td>\n",
       "    </tr>\n",
       "    <tr>\n",
       "      <td>10</td>\n",
       "      <td>20</td>\n",
       "      <td>0</td>\n",
       "      <td>20</td>\n",
       "    </tr>\n",
       "    <tr>\n",
       "      <td>11</td>\n",
       "      <td>22</td>\n",
       "      <td>0</td>\n",
       "      <td>22</td>\n",
       "    </tr>\n",
       "    <tr>\n",
       "      <td>12</td>\n",
       "      <td>24</td>\n",
       "      <td>0</td>\n",
       "      <td>24</td>\n",
       "    </tr>\n",
       "    <tr>\n",
       "      <td>13</td>\n",
       "      <td>26</td>\n",
       "      <td>0</td>\n",
       "      <td>26</td>\n",
       "    </tr>\n",
       "    <tr>\n",
       "      <td>14</td>\n",
       "      <td>27</td>\n",
       "      <td>0</td>\n",
       "      <td>27</td>\n",
       "    </tr>\n",
       "    <tr>\n",
       "      <td>15</td>\n",
       "      <td>28</td>\n",
       "      <td>0</td>\n",
       "      <td>28</td>\n",
       "    </tr>\n",
       "    <tr>\n",
       "      <td>16</td>\n",
       "      <td>29</td>\n",
       "      <td>2</td>\n",
       "      <td>0</td>\n",
       "    </tr>\n",
       "    <tr>\n",
       "      <td>17</td>\n",
       "      <td>86</td>\n",
       "      <td>4</td>\n",
       "      <td>28</td>\n",
       "    </tr>\n",
       "    <tr>\n",
       "      <td>18</td>\n",
       "      <td>87</td>\n",
       "      <td>6</td>\n",
       "      <td>0</td>\n",
       "    </tr>\n",
       "    <tr>\n",
       "      <td>19</td>\n",
       "      <td>144</td>\n",
       "      <td>7</td>\n",
       "      <td>28</td>\n",
       "    </tr>\n",
       "    <tr>\n",
       "      <td>20</td>\n",
       "      <td>145</td>\n",
       "      <td>8</td>\n",
       "      <td>0</td>\n",
       "    </tr>\n",
       "    <tr>\n",
       "      <td>21</td>\n",
       "      <td>174</td>\n",
       "      <td>9</td>\n",
       "      <td>0</td>\n",
       "    </tr>\n",
       "    <tr>\n",
       "      <td>22</td>\n",
       "      <td>202</td>\n",
       "      <td>9</td>\n",
       "      <td>28</td>\n",
       "    </tr>\n",
       "    <tr>\n",
       "      <td>23</td>\n",
       "      <td>204</td>\n",
       "      <td>10</td>\n",
       "      <td>1</td>\n",
       "    </tr>\n",
       "    <tr>\n",
       "      <td>24</td>\n",
       "      <td>206</td>\n",
       "      <td>10</td>\n",
       "      <td>3</td>\n",
       "    </tr>\n",
       "    <tr>\n",
       "      <td>25</td>\n",
       "      <td>207</td>\n",
       "      <td>10</td>\n",
       "      <td>4</td>\n",
       "    </tr>\n",
       "    <tr>\n",
       "      <td>26</td>\n",
       "      <td>208</td>\n",
       "      <td>10</td>\n",
       "      <td>5</td>\n",
       "    </tr>\n",
       "    <tr>\n",
       "      <td>27</td>\n",
       "      <td>210</td>\n",
       "      <td>10</td>\n",
       "      <td>7</td>\n",
       "    </tr>\n",
       "    <tr>\n",
       "      <td>28</td>\n",
       "      <td>212</td>\n",
       "      <td>10</td>\n",
       "      <td>9</td>\n",
       "    </tr>\n",
       "    <tr>\n",
       "      <td>29</td>\n",
       "      <td>214</td>\n",
       "      <td>10</td>\n",
       "      <td>11</td>\n",
       "    </tr>\n",
       "    <tr>\n",
       "      <td>30</td>\n",
       "      <td>215</td>\n",
       "      <td>10</td>\n",
       "      <td>12</td>\n",
       "    </tr>\n",
       "    <tr>\n",
       "      <td>31</td>\n",
       "      <td>216</td>\n",
       "      <td>10</td>\n",
       "      <td>13</td>\n",
       "    </tr>\n",
       "    <tr>\n",
       "      <td>32</td>\n",
       "      <td>218</td>\n",
       "      <td>10</td>\n",
       "      <td>15</td>\n",
       "    </tr>\n",
       "    <tr>\n",
       "      <td>33</td>\n",
       "      <td>220</td>\n",
       "      <td>10</td>\n",
       "      <td>17</td>\n",
       "    </tr>\n",
       "    <tr>\n",
       "      <td>34</td>\n",
       "      <td>222</td>\n",
       "      <td>10</td>\n",
       "      <td>19</td>\n",
       "    </tr>\n",
       "    <tr>\n",
       "      <td>35</td>\n",
       "      <td>224</td>\n",
       "      <td>10</td>\n",
       "      <td>21</td>\n",
       "    </tr>\n",
       "    <tr>\n",
       "      <td>36</td>\n",
       "      <td>226</td>\n",
       "      <td>10</td>\n",
       "      <td>23</td>\n",
       "    </tr>\n",
       "    <tr>\n",
       "      <td>37</td>\n",
       "      <td>228</td>\n",
       "      <td>10</td>\n",
       "      <td>25</td>\n",
       "    </tr>\n",
       "    <tr>\n",
       "      <td>38</td>\n",
       "      <td>230</td>\n",
       "      <td>10</td>\n",
       "      <td>27</td>\n",
       "    </tr>\n",
       "  </tbody>\n",
       "</table>\n",
       "</div>"
      ],
      "text/plain": [
       "    node_id   x   y\n",
       "0         0   0   0\n",
       "1         2   0   2\n",
       "2         4   0   4\n",
       "3         6   0   6\n",
       "4         8   0   8\n",
       "5        10   0  10\n",
       "6        12   0  12\n",
       "7        14   0  14\n",
       "8        16   0  16\n",
       "9        18   0  18\n",
       "10       20   0  20\n",
       "11       22   0  22\n",
       "12       24   0  24\n",
       "13       26   0  26\n",
       "14       27   0  27\n",
       "15       28   0  28\n",
       "16       29   2   0\n",
       "17       86   4  28\n",
       "18       87   6   0\n",
       "19      144   7  28\n",
       "20      145   8   0\n",
       "21      174   9   0\n",
       "22      202   9  28\n",
       "23      204  10   1\n",
       "24      206  10   3\n",
       "25      207  10   4\n",
       "26      208  10   5\n",
       "27      210  10   7\n",
       "28      212  10   9\n",
       "29      214  10  11\n",
       "30      215  10  12\n",
       "31      216  10  13\n",
       "32      218  10  15\n",
       "33      220  10  17\n",
       "34      222  10  19\n",
       "35      224  10  21\n",
       "36      226  10  23\n",
       "37      228  10  25\n",
       "38      230  10  27"
      ]
     },
     "execution_count": 191,
     "metadata": {},
     "output_type": "execute_result"
    }
   ],
   "source": [
    "coords"
   ]
  },
  {
   "cell_type": "code",
   "execution_count": 193,
   "metadata": {},
   "outputs": [],
   "source": [
    "coords.loc[coords.x == 0,'edge'] = \"West\"\n",
    "coords.loc[coords.x == 10,'edge'] = \"East\"\n",
    "coords.loc[coords.y == 0,'edge'] = \"South\"\n",
    "coords.loc[coords.y == 28,'edge'] = \"North\""
   ]
  },
  {
   "cell_type": "code",
   "execution_count": 194,
   "metadata": {},
   "outputs": [],
   "source": [
    "coords = coords.set_index('node_id')"
   ]
  },
  {
   "cell_type": "code",
   "execution_count": 210,
   "metadata": {},
   "outputs": [],
   "source": [
    "df = df.set_index('node_id')"
   ]
  },
  {
   "cell_type": "code",
   "execution_count": null,
   "metadata": {},
   "outputs": [],
   "source": [
    "#pandas.__version__"
   ]
  },
  {
   "cell_type": "code",
   "execution_count": null,
   "metadata": {},
   "outputs": [],
   "source": [
    "coords.loc[coords.index.difference(df.index)]"
   ]
  },
  {
   "cell_type": "code",
   "execution_count": null,
   "metadata": {},
   "outputs": [],
   "source": [
    "coords = coords.reset_index()"
   ]
  },
  {
   "cell_type": "code",
   "execution_count": null,
   "metadata": {},
   "outputs": [],
   "source": [
    "test = coords.set_index(['x','y'])"
   ]
  },
  {
   "cell_type": "code",
   "execution_count": 211,
   "metadata": {},
   "outputs": [],
   "source": [
    "df = coords.join(df, how='left')"
   ]
  },
  {
   "cell_type": "code",
   "execution_count": 212,
   "metadata": {},
   "outputs": [],
   "source": [
    "df = df.reset_index()"
   ]
  },
  {
   "cell_type": "code",
   "execution_count": 213,
   "metadata": {},
   "outputs": [
    {
     "data": {
      "text/html": [
       "<div>\n",
       "<style scoped>\n",
       "    .dataframe tbody tr th:only-of-type {\n",
       "        vertical-align: middle;\n",
       "    }\n",
       "\n",
       "    .dataframe tbody tr th {\n",
       "        vertical-align: top;\n",
       "    }\n",
       "\n",
       "    .dataframe thead th {\n",
       "        text-align: right;\n",
       "    }\n",
       "</style>\n",
       "<table border=\"1\" class=\"dataframe\">\n",
       "  <thead>\n",
       "    <tr style=\"text-align: right;\">\n",
       "      <th></th>\n",
       "      <th>node_id</th>\n",
       "      <th>x</th>\n",
       "      <th>y</th>\n",
       "      <th>edge</th>\n",
       "      <th>year</th>\n",
       "      <th>month</th>\n",
       "      <th>day</th>\n",
       "      <th>hour</th>\n",
       "      <th>minute</th>\n",
       "      <th>lambda_car</th>\n",
       "    </tr>\n",
       "  </thead>\n",
       "  <tbody>\n",
       "    <tr>\n",
       "      <td>0</td>\n",
       "      <td>0</td>\n",
       "      <td>0</td>\n",
       "      <td>0</td>\n",
       "      <td>South</td>\n",
       "      <td>NaN</td>\n",
       "      <td>NaN</td>\n",
       "      <td>NaN</td>\n",
       "      <td>NaN</td>\n",
       "      <td>NaN</td>\n",
       "      <td>NaN</td>\n",
       "    </tr>\n",
       "    <tr>\n",
       "      <td>1</td>\n",
       "      <td>2</td>\n",
       "      <td>0</td>\n",
       "      <td>2</td>\n",
       "      <td>West</td>\n",
       "      <td>2019.0</td>\n",
       "      <td>12.0</td>\n",
       "      <td>16.0</td>\n",
       "      <td>9.0</td>\n",
       "      <td>0.0</td>\n",
       "      <td>1.000000</td>\n",
       "    </tr>\n",
       "    <tr>\n",
       "      <td>2</td>\n",
       "      <td>2</td>\n",
       "      <td>0</td>\n",
       "      <td>2</td>\n",
       "      <td>West</td>\n",
       "      <td>2019.0</td>\n",
       "      <td>12.0</td>\n",
       "      <td>16.0</td>\n",
       "      <td>9.0</td>\n",
       "      <td>15.0</td>\n",
       "      <td>1.000000</td>\n",
       "    </tr>\n",
       "    <tr>\n",
       "      <td>3</td>\n",
       "      <td>2</td>\n",
       "      <td>0</td>\n",
       "      <td>2</td>\n",
       "      <td>West</td>\n",
       "      <td>2019.0</td>\n",
       "      <td>12.0</td>\n",
       "      <td>16.0</td>\n",
       "      <td>9.0</td>\n",
       "      <td>30.0</td>\n",
       "      <td>1.000000</td>\n",
       "    </tr>\n",
       "    <tr>\n",
       "      <td>4</td>\n",
       "      <td>2</td>\n",
       "      <td>0</td>\n",
       "      <td>2</td>\n",
       "      <td>West</td>\n",
       "      <td>2019.0</td>\n",
       "      <td>12.0</td>\n",
       "      <td>16.0</td>\n",
       "      <td>9.0</td>\n",
       "      <td>45.0</td>\n",
       "      <td>1.000000</td>\n",
       "    </tr>\n",
       "    <tr>\n",
       "      <td>...</td>\n",
       "      <td>...</td>\n",
       "      <td>...</td>\n",
       "      <td>...</td>\n",
       "      <td>...</td>\n",
       "      <td>...</td>\n",
       "      <td>...</td>\n",
       "      <td>...</td>\n",
       "      <td>...</td>\n",
       "      <td>...</td>\n",
       "      <td>...</td>\n",
       "    </tr>\n",
       "    <tr>\n",
       "      <td>9536</td>\n",
       "      <td>230</td>\n",
       "      <td>10</td>\n",
       "      <td>27</td>\n",
       "      <td>East</td>\n",
       "      <td>2019.0</td>\n",
       "      <td>5.0</td>\n",
       "      <td>22.0</td>\n",
       "      <td>14.0</td>\n",
       "      <td>45.0</td>\n",
       "      <td>1.166667</td>\n",
       "    </tr>\n",
       "    <tr>\n",
       "      <td>9537</td>\n",
       "      <td>230</td>\n",
       "      <td>10</td>\n",
       "      <td>27</td>\n",
       "      <td>East</td>\n",
       "      <td>2019.0</td>\n",
       "      <td>5.0</td>\n",
       "      <td>22.0</td>\n",
       "      <td>15.0</td>\n",
       "      <td>0.0</td>\n",
       "      <td>1.000000</td>\n",
       "    </tr>\n",
       "    <tr>\n",
       "      <td>9538</td>\n",
       "      <td>230</td>\n",
       "      <td>10</td>\n",
       "      <td>27</td>\n",
       "      <td>East</td>\n",
       "      <td>2019.0</td>\n",
       "      <td>5.0</td>\n",
       "      <td>22.0</td>\n",
       "      <td>15.0</td>\n",
       "      <td>15.0</td>\n",
       "      <td>1.166667</td>\n",
       "    </tr>\n",
       "    <tr>\n",
       "      <td>9539</td>\n",
       "      <td>230</td>\n",
       "      <td>10</td>\n",
       "      <td>27</td>\n",
       "      <td>East</td>\n",
       "      <td>2019.0</td>\n",
       "      <td>5.0</td>\n",
       "      <td>22.0</td>\n",
       "      <td>15.0</td>\n",
       "      <td>30.0</td>\n",
       "      <td>1.000000</td>\n",
       "    </tr>\n",
       "    <tr>\n",
       "      <td>9540</td>\n",
       "      <td>230</td>\n",
       "      <td>10</td>\n",
       "      <td>27</td>\n",
       "      <td>East</td>\n",
       "      <td>2019.0</td>\n",
       "      <td>5.0</td>\n",
       "      <td>22.0</td>\n",
       "      <td>15.0</td>\n",
       "      <td>45.0</td>\n",
       "      <td>1.333333</td>\n",
       "    </tr>\n",
       "  </tbody>\n",
       "</table>\n",
       "<p>9541 rows × 10 columns</p>\n",
       "</div>"
      ],
      "text/plain": [
       "      node_id   x   y   edge    year  month   day  hour  minute  lambda_car\n",
       "0           0   0   0  South     NaN    NaN   NaN   NaN     NaN         NaN\n",
       "1           2   0   2   West  2019.0   12.0  16.0   9.0     0.0    1.000000\n",
       "2           2   0   2   West  2019.0   12.0  16.0   9.0    15.0    1.000000\n",
       "3           2   0   2   West  2019.0   12.0  16.0   9.0    30.0    1.000000\n",
       "4           2   0   2   West  2019.0   12.0  16.0   9.0    45.0    1.000000\n",
       "...       ...  ..  ..    ...     ...    ...   ...   ...     ...         ...\n",
       "9536      230  10  27   East  2019.0    5.0  22.0  14.0    45.0    1.166667\n",
       "9537      230  10  27   East  2019.0    5.0  22.0  15.0     0.0    1.000000\n",
       "9538      230  10  27   East  2019.0    5.0  22.0  15.0    15.0    1.166667\n",
       "9539      230  10  27   East  2019.0    5.0  22.0  15.0    30.0    1.000000\n",
       "9540      230  10  27   East  2019.0    5.0  22.0  15.0    45.0    1.333333\n",
       "\n",
       "[9541 rows x 10 columns]"
      ]
     },
     "execution_count": 213,
     "metadata": {},
     "output_type": "execute_result"
    }
   ],
   "source": [
    "df"
   ]
  },
  {
   "cell_type": "code",
   "execution_count": 214,
   "metadata": {},
   "outputs": [],
   "source": [
    "df['missing'] = df['year'].isnull().astype(int)"
   ]
  },
  {
   "cell_type": "code",
   "execution_count": null,
   "metadata": {},
   "outputs": [],
   "source": [
    "temp = df[['node_id','x','y','edge','missing']].drop_duplicates()"
   ]
  },
  {
   "cell_type": "code",
   "execution_count": null,
   "metadata": {},
   "outputs": [],
   "source": [
    "temp.groupby('edge').agg({\"missing\":['sum','count']})"
   ]
  },
  {
   "cell_type": "code",
   "execution_count": 215,
   "metadata": {},
   "outputs": [],
   "source": [
    "df.to_csv(\"visual.csv\")"
   ]
  },
  {
   "cell_type": "code",
   "execution_count": null,
   "metadata": {},
   "outputs": [],
   "source": [
    "import pandas"
   ]
  },
  {
   "cell_type": "code",
   "execution_count": null,
   "metadata": {},
   "outputs": [],
   "source": [
    "import os"
   ]
  },
  {
   "cell_type": "code",
   "execution_count": null,
   "metadata": {},
   "outputs": [],
   "source": [
    "file = r\"/Users/hsajer3/NYU/bdad/BDAD_Violet_Noise/microsimulation/sumoDataGeneration/data/my_route.rou.xml\""
   ]
  },
  {
   "cell_type": "code",
   "execution_count": null,
   "metadata": {},
   "outputs": [],
   "source": [
    "import xml.etree.ElementTree as ET\n",
    "tree = ET.parse(file)\n",
    "root = tree.getroot()"
   ]
  },
  {
   "cell_type": "code",
   "execution_count": null,
   "metadata": {},
   "outputs": [],
   "source": [
    "busses = []\n",
    "cars = []\n",
    "for i in root.iter(\"vehicle\"):\n",
    "    if i.attrib[\"type\"] == \"Bus\":\n",
    "        busses.append(i.attrib)\n",
    "    else:\n",
    "        cars.append(i.attrib)"
   ]
  },
  {
   "cell_type": "code",
   "execution_count": null,
   "metadata": {},
   "outputs": [],
   "source": [
    "busses = pandas.DataFrame.from_records(busses)"
   ]
  },
  {
   "cell_type": "code",
   "execution_count": null,
   "metadata": {},
   "outputs": [],
   "source": [
    "routes = []\n",
    "for i in root.iter(\"route\"):\n",
    "    routes.append(i.attrib)"
   ]
  },
  {
   "cell_type": "code",
   "execution_count": null,
   "metadata": {},
   "outputs": [],
   "source": [
    "routes = pandas.DataFrame.from_records(routes)"
   ]
  },
  {
   "cell_type": "code",
   "execution_count": null,
   "metadata": {},
   "outputs": [],
   "source": [
    "routes = routes.rename(columns={\"id\":\"route\"})"
   ]
  },
  {
   "cell_type": "code",
   "execution_count": null,
   "metadata": {},
   "outputs": [],
   "source": [
    "busrte = busses.merge(routes,how='inner')[['route','edges']].drop_duplicates()"
   ]
  },
  {
   "cell_type": "code",
   "execution_count": null,
   "metadata": {},
   "outputs": [],
   "source": [
    "import re\n",
    "busrte.edges = busrte.edges.apply(lambda s: re.split(\" \",s))"
   ]
  },
  {
   "cell_type": "code",
   "execution_count": null,
   "metadata": {},
   "outputs": [],
   "source": [
    "busrte['start'] = busrte.edges.apply(lambda s: s[0].replace(\"Lexington\",\"Lexingtn\").split('to')[0])"
   ]
  },
  {
   "cell_type": "code",
   "execution_count": null,
   "metadata": {},
   "outputs": [],
   "source": [
    "busrte['end'] = busrte.edges.apply(lambda s: s[-1].replace(\"Lexington\",\"Lexingtn\").split('to')[1])"
   ]
  },
  {
   "cell_type": "code",
   "execution_count": null,
   "metadata": {},
   "outputs": [],
   "source": [
    "nodes = pandas.DataFrame.from_records([[i, DG.nodes[i]['name']] for i in DG.nodes],columns=[\"node_id\",\"node_name\"])"
   ]
  },
  {
   "cell_type": "code",
   "execution_count": null,
   "metadata": {},
   "outputs": [],
   "source": [
    "nodes.node_name = nodes.node_name.apply(lambda s: s.replace(\"Lexington\",\"Lexingtn\"))"
   ]
  },
  {
   "cell_type": "code",
   "execution_count": null,
   "metadata": {},
   "outputs": [],
   "source": [
    "busrte = busrte.merge(nodes.rename(columns={\"node_name\":\"start\"}),how='left').rename(columns={\"node_id\":\"start_id\"})"
   ]
  },
  {
   "cell_type": "code",
   "execution_count": null,
   "metadata": {},
   "outputs": [],
   "source": [
    "busrte = busrte.merge(nodes.rename(columns={\"node_name\":\"end\"}),how='left').rename(columns={\"node_id\":\"end_id\"})"
   ]
  },
  {
   "cell_type": "code",
   "execution_count": null,
   "metadata": {},
   "outputs": [],
   "source": [
    "#busrte.sort_values(['start_id'])"
   ]
  },
  {
   "cell_type": "code",
   "execution_count": null,
   "metadata": {},
   "outputs": [],
   "source": [
    "import json"
   ]
  },
  {
   "cell_type": "code",
   "execution_count": null,
   "metadata": {},
   "outputs": [],
   "source": [
    "file2 = r\"/Users/hsajer3/NYU/bdad/BDAD_Violet_Noise/microsimulation/sumoDataGeneration/data/busschedule.json\""
   ]
  },
  {
   "cell_type": "code",
   "execution_count": null,
   "metadata": {},
   "outputs": [],
   "source": [
    "with open(file2,\"r\") as ins:\n",
    "    f = json.loads(ins.read())"
   ]
  },
  {
   "cell_type": "code",
   "execution_count": null,
   "metadata": {},
   "outputs": [],
   "source": [
    "stops = set(pandas.DataFrame.from_records(f)['stops'].sum())"
   ]
  },
  {
   "cell_type": "code",
   "execution_count": null,
   "metadata": {},
   "outputs": [],
   "source": [
    "stopmap = dict()\n",
    "for i, v in enumerate(stops):\n",
    "    stopmap[v] = \"station%s\" % i\n",
    "    print(\"<busStop id=\\\"station%s\\\" lane=\\\"%s\\\"/>\" % (i,v))"
   ]
  },
  {
   "cell_type": "code",
   "execution_count": null,
   "metadata": {},
   "outputs": [],
   "source": [
    "buspath = pandas.DataFrame.from_records(f)\n",
    "buspath.stops = buspath.stops.apply(lambda s: [stopmap[i] for i in s])"
   ]
  },
  {
   "cell_type": "code",
   "execution_count": null,
   "metadata": {},
   "outputs": [],
   "source": [
    "with open(r\"/Users/hsajer3/NYU/bdad/BDAD_Violet_Noise/microsimulation/sumoDataGeneration/data/busschedule2.json\", \"w\") as out:\n",
    "    out.write(buspath.to_json(orient='records'))"
   ]
  },
  {
   "cell_type": "code",
   "execution_count": null,
   "metadata": {},
   "outputs": [],
   "source": [
    "with open(file2,\"r\") as ins:\n",
    "    f = json.loads(ins.read())"
   ]
  },
  {
   "cell_type": "code",
   "execution_count": null,
   "metadata": {},
   "outputs": [],
   "source": [
    "#tuple([int(i) for i in k.split(\"|\")]): v for k, v in busroute.items()\n",
    " \n",
    "for record in f:\n",
    "    key = record['busroute']\n",
    "    record['busroute'] = tuple([int(i) for i in key.split(\"|\")])"
   ]
  },
  {
   "cell_type": "code",
   "execution_count": null,
   "metadata": {},
   "outputs": [],
   "source": [
    "with open(r\"/Users/hsajer3/NYU/bdad/BDAD_Violet_Noise/microsimulation/sumoDataGeneration/data/pathdict.json\", 'r') as inf:\n",
    "    paths = json.load(inf)\n",
    "    paths = {tuple([int(i) for i in k.split(\"|\")]): v for k, v in paths.items()}"
   ]
  },
  {
   "cell_type": "code",
   "execution_count": null,
   "metadata": {},
   "outputs": [],
   "source": [
    "vehicle_id = 0\n",
    "vehicle_assigns = []\n",
    "for hour in range(24):\n",
    "    for bus in f:\n",
    "        if hour in bus['active_hrs']:\n",
    "            options = paths[bus['busroute']]\n",
    "            path_id = [i[\"path_id\"] for i in options if i[\"turns\"] <=1][0]\n",
    "            vehicle_id += 1\n",
    "            minute = bus['start_min'] + hour*60\n",
    "            vehiclestr = '<vehicle depart=\"{}\" id=\"veh{}\" route=\"route{}\" type=\"{}\">\\n'.format(minute, vehicle_id, path_id, \"Bus\")\n",
    "            stopstr = \"\".join([\"<stop busStop=\\\"%s\\\" duration=\\\"20\\\"/>\\n\" % i for i in bus['stops']])\n",
    "            vehiclestr = vehiclestr + stopstr + \"</vehicle>\\n\"\n",
    "            \n",
    "            vehicle_assigns.append(assignment)"
   ]
  },
  {
   "cell_type": "code",
   "execution_count": null,
   "metadata": {},
   "outputs": [],
   "source": []
  },
  {
   "cell_type": "code",
   "execution_count": null,
   "metadata": {},
   "outputs": [],
   "source": [
    "    <vehicle id=\"0\" type=\"BUS\" depart=\"0\" color=\"1,1,0\">\n",
    "        <route edges=\"2/0to2/1 2/1to1/1 1/1to1/2 1/2to0/2 0/2to0/1 0/1to0/0 0/0to1/0 1/0to2/0 2/0to2/1\"/>\n",
    "        <stop busStop=\"busstop1\" duration=\"20\"/>\n",
    "        <stop busStop=\"busstop2\" duration=\"20\"/>\n",
    "        <stop busStop=\"busstop3\" duration=\"20\"/>\n",
    "        <stop busStop=\"busstop4\" duration=\"20\"/>\n",
    "    </vehicle>"
   ]
  },
  {
   "cell_type": "code",
   "execution_count": null,
   "metadata": {},
   "outputs": [],
   "source": [
    "import pickle\n",
    "with open(\"/Users/hsajer3/NYU/bdad/BDAD_Violet_Noise/microsimulation/sumoDataGeneration/data/graph.p\", \"rb\") as f:\n",
    "    DG = pickle.load(f)"
   ]
  },
  {
   "cell_type": "code",
   "execution_count": null,
   "metadata": {},
   "outputs": [],
   "source": [
    "DG.nodes[0]"
   ]
  },
  {
   "cell_type": "code",
   "execution_count": 217,
   "metadata": {},
   "outputs": [
    {
     "data": {
      "text/plain": [
       "['Car1', 'Car1']"
      ]
     },
     "execution_count": 217,
     "metadata": {},
     "output_type": "execute_result"
    }
   ],
   "source": [
    "[\"Car1\"]*2"
   ]
  },
  {
   "cell_type": "code",
   "execution_count": 239,
   "metadata": {},
   "outputs": [],
   "source": [
    "rates = pandas.read_csv(\"visual.csv\")"
   ]
  },
  {
   "cell_type": "code",
   "execution_count": 240,
   "metadata": {},
   "outputs": [],
   "source": [
    "rates.loc[rates['simgrouping'].isnull(),\"simgrouping\"] = rates.loc[rates['simgrouping'].isnull(),\"node_id\"].astype(str).apply(lambda s: \"sgrp_\"+s)"
   ]
  },
  {
   "cell_type": "code",
   "execution_count": 241,
   "metadata": {},
   "outputs": [],
   "source": [
    "rates = rates[['node_id','simgrouping','hour','minute','lambda_car']]"
   ]
  },
  {
   "cell_type": "code",
   "execution_count": 244,
   "metadata": {},
   "outputs": [],
   "source": [
    "idgrp = rates[['node_id','simgrouping']].drop_duplicates()"
   ]
  },
  {
   "cell_type": "code",
   "execution_count": 245,
   "metadata": {},
   "outputs": [],
   "source": [
    "rates = rates.groupby(['node_id','simgrouping','hour','minute'],as_index=False).mean()"
   ]
  },
  {
   "cell_type": "code",
   "execution_count": 247,
   "metadata": {},
   "outputs": [],
   "source": [
    "rates.loc[:,['hour','minute']] = rates.loc[:,['hour','minute']].astype(int)"
   ]
  },
  {
   "cell_type": "code",
   "execution_count": 253,
   "metadata": {},
   "outputs": [],
   "source": [
    "rates.hour = rates.hour - 1"
   ]
  },
  {
   "cell_type": "code",
   "execution_count": 255,
   "metadata": {},
   "outputs": [],
   "source": [
    "rates['totalmin'] = rates.hour * 60 + rates.minute"
   ]
  },
  {
   "cell_type": "code",
   "execution_count": 264,
   "metadata": {},
   "outputs": [],
   "source": [
    "smooth = rates.groupby(['simgrouping','totalmin']).agg({\"lambda_car\":\"mean\"})"
   ]
  },
  {
   "cell_type": "code",
   "execution_count": 266,
   "metadata": {},
   "outputs": [],
   "source": [
    "smooth = smooth.reset_index().sort_values('totalmin')"
   ]
  },
  {
   "cell_type": "code",
   "execution_count": 267,
   "metadata": {},
   "outputs": [
    {
     "data": {
      "text/html": [
       "<div>\n",
       "<style scoped>\n",
       "    .dataframe tbody tr th:only-of-type {\n",
       "        vertical-align: middle;\n",
       "    }\n",
       "\n",
       "    .dataframe tbody tr th {\n",
       "        vertical-align: top;\n",
       "    }\n",
       "\n",
       "    .dataframe thead th {\n",
       "        text-align: right;\n",
       "    }\n",
       "</style>\n",
       "<table border=\"1\" class=\"dataframe\">\n",
       "  <thead>\n",
       "    <tr style=\"text-align: right;\">\n",
       "      <th></th>\n",
       "      <th>simgrouping</th>\n",
       "      <th>totalmin</th>\n",
       "      <th>lambda_car</th>\n",
       "    </tr>\n",
       "  </thead>\n",
       "  <tbody>\n",
       "    <tr>\n",
       "      <td>0</td>\n",
       "      <td>group1</td>\n",
       "      <td>0</td>\n",
       "      <td>0.875000</td>\n",
       "    </tr>\n",
       "    <tr>\n",
       "      <td>480</td>\n",
       "      <td>group6</td>\n",
       "      <td>0</td>\n",
       "      <td>1.333333</td>\n",
       "    </tr>\n",
       "    <tr>\n",
       "      <td>864</td>\n",
       "      <td>sgrp_20</td>\n",
       "      <td>0</td>\n",
       "      <td>0.950000</td>\n",
       "    </tr>\n",
       "    <tr>\n",
       "      <td>192</td>\n",
       "      <td>group3</td>\n",
       "      <td>0</td>\n",
       "      <td>1.117361</td>\n",
       "    </tr>\n",
       "    <tr>\n",
       "      <td>96</td>\n",
       "      <td>group2</td>\n",
       "      <td>0</td>\n",
       "      <td>0.900000</td>\n",
       "    </tr>\n",
       "    <tr>\n",
       "      <td>...</td>\n",
       "      <td>...</td>\n",
       "      <td>...</td>\n",
       "      <td>...</td>\n",
       "    </tr>\n",
       "    <tr>\n",
       "      <td>287</td>\n",
       "      <td>group3</td>\n",
       "      <td>1425</td>\n",
       "      <td>1.159028</td>\n",
       "    </tr>\n",
       "    <tr>\n",
       "      <td>191</td>\n",
       "      <td>group2</td>\n",
       "      <td>1425</td>\n",
       "      <td>1.000000</td>\n",
       "    </tr>\n",
       "    <tr>\n",
       "      <td>95</td>\n",
       "      <td>group1</td>\n",
       "      <td>1425</td>\n",
       "      <td>1.000000</td>\n",
       "    </tr>\n",
       "    <tr>\n",
       "      <td>1247</td>\n",
       "      <td>sgrp_222</td>\n",
       "      <td>1425</td>\n",
       "      <td>1.000000</td>\n",
       "    </tr>\n",
       "    <tr>\n",
       "      <td>1343</td>\n",
       "      <td>sgrp_4</td>\n",
       "      <td>1425</td>\n",
       "      <td>1.750000</td>\n",
       "    </tr>\n",
       "  </tbody>\n",
       "</table>\n",
       "<p>1344 rows × 3 columns</p>\n",
       "</div>"
      ],
      "text/plain": [
       "     simgrouping  totalmin  lambda_car\n",
       "0         group1         0    0.875000\n",
       "480       group6         0    1.333333\n",
       "864      sgrp_20         0    0.950000\n",
       "192       group3         0    1.117361\n",
       "96        group2         0    0.900000\n",
       "...          ...       ...         ...\n",
       "287       group3      1425    1.159028\n",
       "191       group2      1425    1.000000\n",
       "95        group1      1425    1.000000\n",
       "1247    sgrp_222      1425    1.000000\n",
       "1343      sgrp_4      1425    1.750000\n",
       "\n",
       "[1344 rows x 3 columns]"
      ]
     },
     "execution_count": 267,
     "metadata": {},
     "output_type": "execute_result"
    }
   ],
   "source": []
  },
  {
   "cell_type": "code",
   "execution_count": 269,
   "metadata": {},
   "outputs": [],
   "source": [
    "smooth['rollinglambda'] = smooth.groupby('simgrouping')['lambda_car'].transform(lambda x: x.rolling(4, 1).mean())"
   ]
  },
  {
   "cell_type": "code",
   "execution_count": 271,
   "metadata": {},
   "outputs": [
    {
     "data": {
      "text/plain": [
       "array(['group1', 'group6', 'sgrp_20', 'group3', 'group2', 'sgrp_22',\n",
       "       'group5', 'sgrp_4', 'group4', 'group8', 'sgrp_202', 'sgrp_145',\n",
       "       'group7', 'sgrp_222'], dtype=object)"
      ]
     },
     "execution_count": 271,
     "metadata": {},
     "output_type": "execute_result"
    }
   ],
   "source": [
    "smooth.simgrouping.unique()"
   ]
  },
  {
   "cell_type": "code",
   "execution_count": 280,
   "metadata": {},
   "outputs": [
    {
     "data": {
      "text/plain": [
       "<matplotlib.axes._subplots.AxesSubplot at 0x15a859ad0>"
      ]
     },
     "execution_count": 280,
     "metadata": {},
     "output_type": "execute_result"
    },
    {
     "data": {
      "image/png": "[encoded data removed]",
      "text/plain": [
       "<Figure size 432x288 with 1 Axes>"
      ]
     },
     "metadata": {
      "needs_background": "light"
     },
     "output_type": "display_data"
    }
   ],
   "source": [
    "smooth[smooth.simgrouping == 'sgrp_222'][['totalmin','rollinglambda']].plot.line(x='totalmin',y='rollinglambda')"
   ]
  },
  {
   "cell_type": "code",
   "execution_count": 290,
   "metadata": {},
   "outputs": [
    {
     "data": {
      "text/html": [
       "<div>\n",
       "<style scoped>\n",
       "    .dataframe tbody tr th:only-of-type {\n",
       "        vertical-align: middle;\n",
       "    }\n",
       "\n",
       "    .dataframe tbody tr th {\n",
       "        vertical-align: top;\n",
       "    }\n",
       "\n",
       "    .dataframe thead th {\n",
       "        text-align: right;\n",
       "    }\n",
       "</style>\n",
       "<table border=\"1\" class=\"dataframe\">\n",
       "  <thead>\n",
       "    <tr style=\"text-align: right;\">\n",
       "      <th></th>\n",
       "      <th>simgrouping</th>\n",
       "      <th>totalmin</th>\n",
       "      <th>lambda_car</th>\n",
       "      <th>rollinglambda</th>\n",
       "    </tr>\n",
       "  </thead>\n",
       "  <tbody>\n",
       "    <tr>\n",
       "      <td>0</td>\n",
       "      <td>group1</td>\n",
       "      <td>0</td>\n",
       "      <td>0.875000</td>\n",
       "      <td>0.875000</td>\n",
       "    </tr>\n",
       "    <tr>\n",
       "      <td>480</td>\n",
       "      <td>group6</td>\n",
       "      <td>0</td>\n",
       "      <td>1.333333</td>\n",
       "      <td>1.333333</td>\n",
       "    </tr>\n",
       "    <tr>\n",
       "      <td>864</td>\n",
       "      <td>sgrp_20</td>\n",
       "      <td>0</td>\n",
       "      <td>0.950000</td>\n",
       "      <td>0.950000</td>\n",
       "    </tr>\n",
       "    <tr>\n",
       "      <td>192</td>\n",
       "      <td>group3</td>\n",
       "      <td>0</td>\n",
       "      <td>1.117361</td>\n",
       "      <td>1.117361</td>\n",
       "    </tr>\n",
       "    <tr>\n",
       "      <td>96</td>\n",
       "      <td>group2</td>\n",
       "      <td>0</td>\n",
       "      <td>0.900000</td>\n",
       "      <td>0.900000</td>\n",
       "    </tr>\n",
       "    <tr>\n",
       "      <td>...</td>\n",
       "      <td>...</td>\n",
       "      <td>...</td>\n",
       "      <td>...</td>\n",
       "      <td>...</td>\n",
       "    </tr>\n",
       "    <tr>\n",
       "      <td>287</td>\n",
       "      <td>group3</td>\n",
       "      <td>1425</td>\n",
       "      <td>1.159028</td>\n",
       "      <td>1.171875</td>\n",
       "    </tr>\n",
       "    <tr>\n",
       "      <td>191</td>\n",
       "      <td>group2</td>\n",
       "      <td>1425</td>\n",
       "      <td>1.000000</td>\n",
       "      <td>0.950000</td>\n",
       "    </tr>\n",
       "    <tr>\n",
       "      <td>95</td>\n",
       "      <td>group1</td>\n",
       "      <td>1425</td>\n",
       "      <td>1.000000</td>\n",
       "      <td>1.062500</td>\n",
       "    </tr>\n",
       "    <tr>\n",
       "      <td>1247</td>\n",
       "      <td>sgrp_222</td>\n",
       "      <td>1425</td>\n",
       "      <td>1.000000</td>\n",
       "      <td>1.125000</td>\n",
       "    </tr>\n",
       "    <tr>\n",
       "      <td>1343</td>\n",
       "      <td>sgrp_4</td>\n",
       "      <td>1425</td>\n",
       "      <td>1.750000</td>\n",
       "      <td>1.609375</td>\n",
       "    </tr>\n",
       "  </tbody>\n",
       "</table>\n",
       "<p>1344 rows × 4 columns</p>\n",
       "</div>"
      ],
      "text/plain": [
       "     simgrouping  totalmin  lambda_car  rollinglambda\n",
       "0         group1         0    0.875000       0.875000\n",
       "480       group6         0    1.333333       1.333333\n",
       "864      sgrp_20         0    0.950000       0.950000\n",
       "192       group3         0    1.117361       1.117361\n",
       "96        group2         0    0.900000       0.900000\n",
       "...          ...       ...         ...            ...\n",
       "287       group3      1425    1.159028       1.171875\n",
       "191       group2      1425    1.000000       0.950000\n",
       "95        group1      1425    1.000000       1.062500\n",
       "1247    sgrp_222      1425    1.000000       1.125000\n",
       "1343      sgrp_4      1425    1.750000       1.609375\n",
       "\n",
       "[1344 rows x 4 columns]"
      ]
     },
     "execution_count": 290,
     "metadata": {},
     "output_type": "execute_result"
    }
   ],
   "source": [
    "smooth"
   ]
  },
  {
   "cell_type": "code",
   "execution_count": 296,
   "metadata": {},
   "outputs": [],
   "source": [
    "thing = smooth.drop(['lambda_car'],axis=1).set_index('totalmin').groupby('simgrouping').apply(lambda s: s.to_dict(orient='index'))"
   ]
  },
  {
   "cell_type": "code",
   "execution_count": 315,
   "metadata": {},
   "outputs": [],
   "source": [
    "import math\n",
    "smooth.rollinglambda = smooth.rollinglambda.apply(lambda s: round(s,2))"
   ]
  },
  {
   "cell_type": "code",
   "execution_count": 317,
   "metadata": {},
   "outputs": [],
   "source": [
    "lambdamap = dict()\n",
    "\n",
    "for i in smooth['simgrouping'].unique():\n",
    "    lambdamap[i] = smooth[smooth.simgrouping == i].set_index('totalmin')['rollinglambda'].to_dict()"
   ]
  },
  {
   "cell_type": "code",
   "execution_count": 323,
   "metadata": {},
   "outputs": [],
   "source": [
    "nodelambdas = idgrp.set_index('node_id')['simgrouping'].to_dict()"
   ]
  },
  {
   "cell_type": "code",
   "execution_count": 326,
   "metadata": {},
   "outputs": [],
   "source": [
    "for k in nodelambdas:\n",
    "    nodelambdas[k] = lambdamap[nodelambdas[k]]"
   ]
  },
  {
   "cell_type": "code",
   "execution_count": 334,
   "metadata": {},
   "outputs": [],
   "source": [
    "check = set(nodelambdas.keys())"
   ]
  },
  {
   "cell_type": "code",
   "execution_count": 333,
   "metadata": {},
   "outputs": [],
   "source": [
    "cmp = set([i for i in DG.nodes if \"source\" in DG.nodes[i][\"nodetype\"]])"
   ]
  },
  {
   "cell_type": "code",
   "execution_count": 338,
   "metadata": {},
   "outputs": [],
   "source": [
    "#nodelambdas"
   ]
  },
  {
   "cell_type": "code",
   "execution_count": null,
   "metadata": {},
   "outputs": [],
   "source": []
  },
  {
   "cell_type": "code",
   "execution_count": 340,
   "metadata": {},
   "outputs": [],
   "source": [
    "outp = r\"/Users/hsajer3/NYU/bdad/BDAD_Violet_Noise/microsimulation/sumoDataGeneration/data/nodelambdas.json\""
   ]
  },
  {
   "cell_type": "code",
   "execution_count": 344,
   "metadata": {},
   "outputs": [],
   "source": [
    "with open(outp,\"w\") as outs:\n",
    "    outs.write(json.dumps(nodelambdas))"
   ]
  },
  {
   "cell_type": "code",
   "execution_count": 365,
   "metadata": {},
   "outputs": [],
   "source": [
    "with open(outp, \"r\") as test:\n",
    "    f = json.load(test)"
   ]
  },
  {
   "cell_type": "code",
   "execution_count": 361,
   "metadata": {},
   "outputs": [],
   "source": [
    "f = {int(k):v for k, v in f.items()}"
   ]
  },
  {
   "cell_type": "code",
   "execution_count": 369,
   "metadata": {},
   "outputs": [],
   "source": [
    "with open(file2,\"r\") as ins:\n",
    "    f = json.load(ins)"
   ]
  },
  {
   "cell_type": "code",
   "execution_count": 371,
   "metadata": {},
   "outputs": [
    {
     "data": {
      "text/plain": [
       "{'35to36': 'station0',\n",
       " '62to33': 'station1',\n",
       " '77to76': 'station2',\n",
       " '70to41': 'station3',\n",
       " '126to125': 'station4',\n",
       " '151to152': 'station5',\n",
       " '193to194': 'station6',\n",
       " '91to120': 'station7',\n",
       " '106to77': 'station8',\n",
       " '138to137': 'station9',\n",
       " '180to179': 'station10',\n",
       " '65to64': 'station11',\n",
       " '106to107': 'station12',\n",
       " '99to128': 'station13',\n",
       " '191to190': 'station14',\n",
       " '172to143': 'station15',\n",
       " '182to183': 'station16',\n",
       " '198to197': 'station17',\n",
       " '85to114': 'station18',\n",
       " '162to163': 'station19',\n",
       " '93to94': 'station20',\n",
       " '45to46': 'station21'}"
      ]
     },
     "execution_count": 371,
     "metadata": {},
     "output_type": "execute_result"
    }
   ],
   "source": [
    "stopmap"
   ]
  },
  {
   "cell_type": "code",
   "execution_count": 372,
   "metadata": {},
   "outputs": [],
   "source": [
    "for rec in f:\n",
    "    rec['stops'] = [stopmap[i] for i in rec['stops']]"
   ]
  },
  {
   "cell_type": "code",
   "execution_count": 373,
   "metadata": {},
   "outputs": [
    {
     "data": {
      "text/plain": [
       "[{'busroute': '29|215',\n",
       "  'active_hrs': [4, 5, 6, 7, 8, 9, 10, 12, 14, 15, 16, 17, 18, 19, 20, 21, 22],\n",
       "  'start_min': 11,\n",
       "  'stops': ['station0', 'station13']},\n",
       " {'busroute': '29|230',\n",
       "  'active_hrs': [4, 5, 6, 7, 8, 9, 10, 12, 14, 15, 16, 17, 18, 19, 20, 21, 22],\n",
       "  'start_min': 31,\n",
       "  'stops': ['station0', 'station21', 'station18']},\n",
       " {'busroute': '29|57',\n",
       "  'active_hrs': [4, 5, 6, 7, 8, 9, 10, 12, 14, 15, 16, 17, 18, 19, 20, 21, 22],\n",
       "  'start_min': 51,\n",
       "  'stops': ['station0', 'station21']},\n",
       " {'busroute': '87|12',\n",
       "  'active_hrs': [0, 2, 4, 6, 7, 8, 9, 10, 12, 14, 16, 17, 18, 19, 20, 22],\n",
       "  'start_min': 6,\n",
       "  'stops': ['station20', 'station3']},\n",
       " {'busroute': '87|27',\n",
       "  'active_hrs': [0, 2, 4, 6, 7, 8, 9, 10, 12, 14, 16, 17, 18, 19, 20, 22],\n",
       "  'start_min': 26,\n",
       "  'stops': ['station20', 'station12']},\n",
       " {'busroute': '87|115',\n",
       "  'active_hrs': [0, 2, 4, 6, 7, 8, 9, 10, 12, 14, 16, 17, 18, 19, 20, 22],\n",
       "  'start_min': 46,\n",
       "  'stops': ['station20', 'station12']},\n",
       " {'busroute': '145|173',\n",
       "  'active_hrs': [1, 3, 5, 7, 8, 9, 11, 13, 15, 17, 18, 19, 21, 23],\n",
       "  'start_min': 30,\n",
       "  'stops': ['station5', 'station19']},\n",
       " {'busroute': '174|19',\n",
       "  'active_hrs': [1, 3, 5, 7, 8, 9, 11, 13, 15, 17, 18, 19, 21, 23],\n",
       "  'start_min': 22,\n",
       "  'stops': ['station16', 'station8']},\n",
       " {'busroute': '174|202',\n",
       "  'active_hrs': [0, 2, 4, 6, 7, 8, 9, 10, 12, 14, 16, 17, 18, 19, 20, 22],\n",
       "  'start_min': 52,\n",
       "  'stops': ['station16', 'station6']},\n",
       " {'busroute': '86|4',\n",
       "  'active_hrs': [0, 2, 4, 6, 7, 8, 9, 10, 12, 14, 16, 17, 18, 19, 20, 22],\n",
       "  'start_min': 2,\n",
       "  'stops': ['station2', 'station11']},\n",
       " {'busroute': '86|58',\n",
       "  'active_hrs': [0, 2, 4, 6, 7, 8, 9, 10, 12, 14, 16, 17, 18, 19, 20, 22],\n",
       "  'start_min': 32,\n",
       "  'stops': ['station2', 'station11']},\n",
       " {'busroute': '144|12',\n",
       "  'active_hrs': [1, 3, 5, 7, 8, 9, 11, 13, 15, 17, 18, 19, 21, 23],\n",
       "  'start_min': 4,\n",
       "  'stops': ['station9', 'station3']},\n",
       " {'busroute': '144|207',\n",
       "  'active_hrs': [1, 3, 5, 7, 8, 9, 11, 13, 15, 17, 18, 19, 21, 23],\n",
       "  'start_min': 24,\n",
       "  'stops': ['station9', 'station4']},\n",
       " {'busroute': '144|116',\n",
       "  'active_hrs': [1, 3, 5, 7, 8, 9, 11, 13, 15, 17, 18, 19, 21, 23],\n",
       "  'start_min': 54,\n",
       "  'stops': ['station9', 'station4']},\n",
       " {'busroute': '202|174',\n",
       "  'active_hrs': [0, 2, 4, 6, 7, 8, 9, 10, 12, 14, 16, 17, 18, 19, 20, 22],\n",
       "  'start_min': 12,\n",
       "  'stops': ['station17', 'station14', 'station10']},\n",
       " {'busroute': '12|215',\n",
       "  'active_hrs': [4,\n",
       "   5,\n",
       "   6,\n",
       "   7,\n",
       "   8,\n",
       "   9,\n",
       "   10,\n",
       "   11,\n",
       "   12,\n",
       "   13,\n",
       "   14,\n",
       "   15,\n",
       "   16,\n",
       "   17,\n",
       "   18,\n",
       "   19,\n",
       "   20,\n",
       "   21,\n",
       "   22,\n",
       "   23],\n",
       "  'start_min': 17,\n",
       "  'stops': ['station13']},\n",
       " {'busroute': '215|12',\n",
       "  'active_hrs': [4,\n",
       "   5,\n",
       "   6,\n",
       "   7,\n",
       "   8,\n",
       "   9,\n",
       "   10,\n",
       "   11,\n",
       "   12,\n",
       "   13,\n",
       "   14,\n",
       "   15,\n",
       "   16,\n",
       "   17,\n",
       "   18,\n",
       "   19,\n",
       "   20,\n",
       "   21,\n",
       "   22,\n",
       "   23],\n",
       "  'start_min': 47,\n",
       "  'stops': ['station3']},\n",
       " {'busroute': '4|207',\n",
       "  'active_hrs': [4,\n",
       "   5,\n",
       "   6,\n",
       "   7,\n",
       "   8,\n",
       "   9,\n",
       "   10,\n",
       "   11,\n",
       "   12,\n",
       "   13,\n",
       "   14,\n",
       "   15,\n",
       "   16,\n",
       "   17,\n",
       "   18,\n",
       "   19,\n",
       "   20,\n",
       "   21,\n",
       "   22,\n",
       "   23],\n",
       "  'start_min': 15,\n",
       "  'stops': ['station7']},\n",
       " {'busroute': '207|4',\n",
       "  'active_hrs': [4,\n",
       "   5,\n",
       "   6,\n",
       "   7,\n",
       "   8,\n",
       "   9,\n",
       "   10,\n",
       "   11,\n",
       "   12,\n",
       "   13,\n",
       "   14,\n",
       "   15,\n",
       "   16,\n",
       "   17,\n",
       "   18,\n",
       "   19,\n",
       "   20,\n",
       "   21,\n",
       "   22,\n",
       "   23],\n",
       "  'start_min': 45,\n",
       "  'stops': ['station1']},\n",
       " {'busroute': '27|230',\n",
       "  'active_hrs': [4,\n",
       "   5,\n",
       "   6,\n",
       "   7,\n",
       "   8,\n",
       "   9,\n",
       "   10,\n",
       "   11,\n",
       "   12,\n",
       "   13,\n",
       "   14,\n",
       "   15,\n",
       "   16,\n",
       "   17,\n",
       "   18,\n",
       "   19,\n",
       "   20,\n",
       "   21,\n",
       "   22],\n",
       "  'start_min': 32,\n",
       "  'stops': ['station18']},\n",
       " {'busroute': '230|27',\n",
       "  'active_hrs': [4,\n",
       "   5,\n",
       "   6,\n",
       "   7,\n",
       "   8,\n",
       "   9,\n",
       "   10,\n",
       "   11,\n",
       "   12,\n",
       "   13,\n",
       "   14,\n",
       "   15,\n",
       "   16,\n",
       "   17,\n",
       "   18,\n",
       "   19,\n",
       "   20,\n",
       "   21,\n",
       "   22],\n",
       "  'start_min': 2,\n",
       "  'stops': ['station15']}]"
      ]
     },
     "execution_count": 373,
     "metadata": {},
     "output_type": "execute_result"
    }
   ],
   "source": [
    "f"
   ]
  },
  {
   "cell_type": "code",
   "execution_count": null,
   "metadata": {},
   "outputs": [],
   "source": []
  }
 ],
 "metadata": {
  "kernelspec": {
   "display_name": "Python 3.7.4 base3",
   "language": "python",
   "name": "base3env"
  },
  "language_info": {
   "codemirror_mode": {
    "name": "ipython",
    "version": 3
   },
   "file_extension": ".py",
   "mimetype": "text/x-python",
   "name": "python",
   "nbconvert_exporter": "python",
   "pygments_lexer": "ipython3",
   "version": "3.7.4"
  }
 },
 "nbformat": 4,
 "nbformat_minor": 4
}
