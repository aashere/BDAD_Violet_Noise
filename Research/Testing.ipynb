{
 "cells": [
  {
   "cell_type": "code",
   "execution_count": null,
   "metadata": {},
   "outputs": [],
   "source": [
    "import networkx as nx\n",
    "import matplotlib.pyplot as plt\n",
    "import matplotlib.cm as cm\n",
    "import time\n",
    "import math\n",
    "import itertools\n",
    "from IPython.display import clear_output\n",
    "import numpy as np\n",
    "\n",
    "%matplotlib inline \n",
    "#plt.set_cmap(cm.get_cmap(\"Spectral_r\"))"
   ]
  },
  {
   "cell_type": "markdown",
   "metadata": {},
   "source": [
    "Transposing cartesian coordinates to latitude / longitude \n",
    "\n",
    "https://math.stackexchange.com/questions/296794/finding-the-transform-matrix-from-4-projected-points-with-javascript/339033#339033\n",
    "\n",
    "\n",
    "| var | cartesian | GPS |\n",
    "|-----|-----------|-------------------------|\n",
    "| x1  | (0,0)     | (40.750885, -73.998169) |\n",
    "| x2  | (0,28)    | (40.768575, -73.985212) |\n",
    "| x3  | (10,0)    | (40.743195, -73.979931) |\n",
    "| x4  | (10,28)   | (40.760918, -73.966995) |\n",
    "\n",
    "\n",
    "Below are just helpful calculations for getting the final combined matrix that transforms from source to destination"
   ]
  },
  {
   "cell_type": "code",
   "execution_count": null,
   "metadata": {},
   "outputs": [],
   "source": [
    "xC1 = (0,0)\n",
    "xC2 = (0,28)\n",
    "xC3 = (10,0)\n",
    "xC4 = (10,28)\n",
    "\n",
    "xLL1 = (40.750885, -73.998169)\n",
    "xLL2 = (40.768575, -73.985212)\n",
    "xLL3 = (40.743195, -73.979931)\n",
    "xLL4 = (40.760918, -73.966995)\n",
    "\n",
    "m_AC = np.mat([[xC1[0], xC2[0], xC3[0]], [xC1[1], xC2[1], xC3[1]], [1, 1, 1]])\n",
    "m_BC = np.array(list(xC4) + [1]).reshape(-1,1)\n",
    "lambda_C = np.matmul(np.linalg.inv(m_AC), m_BC)\n",
    "lambda_C_ext = np.repeat(np.transpose(lambda_C), repeats=3,axis=0)\n",
    "transform_C =  np.multiply(lambda_C_ext, m_AC)\n",
    "\n",
    "m_ALL = np.mat([[xLL1[0], xLL2[0], xLL3[0]], [xLL1[1], xLL2[1], xLL3[1]], [1, 1, 1]])\n",
    "m_BLL = np.array(list(xLL4) + [1]).reshape(-1,1)\n",
    "lambda_LL = np.matmul(np.linalg.inv(m_ALL), m_BLL)\n",
    "lambda_LL_ext = np.repeat(np.transpose(lambda_LL), repeats=3,axis=0)\n",
    "transform_LL =  np.multiply(lambda_LL_ext, m_ALL)\n",
    "\n",
    "fullmap = transform_LL * np.linalg.inv(transform_C)\n",
    "\n",
    "def get_gps_coords(x, y):\n",
    "    m_coords = np.transpose(np.mat([x, y, 1]))\n",
    "    m_output = np.matmul(fullmap, m_coords)\n",
    "    lat = np.around(m_output[0,0] / m_output[2,0], decimals=6)\n",
    "    long = np.around(m_output[1,0] / m_output[2,0], decimals=6)\n",
    "    return (lat, long)\n",
    "\n",
    "#TEST\n",
    "tests = [get_gps_coords(*xC1) == xLL1,\n",
    "get_gps_coords(*xC2) == xLL2,\n",
    "get_gps_coords(*xC3) == xLL3,\n",
    "get_gps_coords(*xC4) == xLL4]\n",
    "\n",
    "print(all(tests))"
   ]
  },
  {
   "cell_type": "code",
   "execution_count": null,
   "metadata": {},
   "outputs": [],
   "source": [
    "cart_Xs = [0, 2, 4, 6, 7, 8, 9, 10]\n",
    "name_Xs = dict(zip(cart_Xs, [\"9\",\"8\",\"7\",\"6\",\"5\",\"Madison\",\"Park\",\"Lexington\",\"3\"]))\n",
    "cart_Ys = list(range(0,29))\n",
    "name_Ys = dict(zip(cart_Ys, [str(i+30) for i in cart_Ys]))"
   ]
  },
  {
   "cell_type": "code",
   "execution_count": null,
   "metadata": {},
   "outputs": [],
   "source": [
    "DG = nx.DiGraph()\n",
    "coords = list(itertools.product(cart_Xs,cart_Ys))\n",
    "for nodeid, pair in enumerate(coords):\n",
    "    intersection = name_Xs[pair[0]] + \"_\" +  name_Ys[pair[1]]\n",
    "    gps = get_gps_coords(*pair)\n",
    "    DG.add_node(nodeid, cartesian=pair, name = intersection, latitude = gps[0], longitude = gps[1], nodetype=\"inner\", color=\"#e1e3f0\", volume_rate=dict())\n",
    "\n",
    "nodes = {v: k for k, v in nx.get_node_attributes(DG, \"cartesian\").items()}\n",
    "\n",
    "for pair in nodes:\n",
    "    \n",
    "    nextave = cart_Xs.index(pair[0])+1\n",
    "    if nextave >= len(cart_Xs):\n",
    "        right = (-1,-1)\n",
    "    else:\n",
    "        right = (cart_Xs[nextave] , pair[1])\n",
    "    above = (pair[0], pair[1] + 1)\n",
    "\n",
    "    eastboundst = (pair[1] % 2) == 0   \n",
    "    \n",
    "    if above in nodes:#  and pair[0] not in {1,6}:\n",
    "        \n",
    "        if pair[0] in [2, 6, 8, 10]:\n",
    "            DG.add_edge(nodes[pair], nodes[above], direction='north', lanes = 4, name = name_Xs[pair[0]] + \"_ave\")\n",
    "        elif pair[0] == 9:\n",
    "            DG.add_edge(nodes[pair], nodes[above], direction='north', lanes = 2, name = name_Xs[pair[0]] + \"_ave\")\n",
    "            DG.add_edge(nodes[above], nodes[pair], direction='south', lanes = 2, name = name_Xs[pair[0]] + \"_ave\")\n",
    "        else:\n",
    "            DG.add_edge(nodes[above], nodes[pair], direction='south', lanes = 4, name = name_Xs[pair[0]] + \"_ave\")\n",
    "            \n",
    "    if right in nodes: # and pair[1] not in {1,6}:\n",
    "        if pair[1] in [4, 12, 27]:\n",
    "            DG.add_edge(nodes[pair], nodes[right], direction='east', lanes = 2, name = name_Ys[pair[1]] + \"_st\")\n",
    "            DG.add_edge(nodes[right], nodes[pair], direction='west', lanes = 2, name = name_Ys[pair[1]] + \"_st\")\n",
    "        if eastboundst:\n",
    "            DG.add_edge(nodes[pair], nodes[right], direction='east', lanes = 2, name = name_Ys[pair[1]] + \"_st\")\n",
    "        else:\n",
    "            DG.add_edge(nodes[right], nodes[pair], direction='west', lanes = 2, name = name_Ys[pair[1]] + \"_st\")\n",
    "            \n",
    "\n",
    "for node in DG.nodes:\n",
    "    border_west = DG.nodes[node][\"cartesian\"][0] == 0\n",
    "    border_east = DG.nodes[node][\"cartesian\"][0] == 10\n",
    "    \n",
    "    border_north = DG.nodes[node][\"cartesian\"][1] == 0\n",
    "    border_south = DG.nodes[node][\"cartesian\"][1] == 28\n",
    "    \n",
    "    border = (border_west or border_east or border_north or border_south)\n",
    "    \n",
    "    if DG.nodes[node][\"cartesian\"][0] == 0: # west border\n",
    "        if DG.nodes[node][\"cartesian\"][1] in [4, 12, 27]:\n",
    "            DG.nodes[node][\"nodetype\"] = \"source_sink\"\n",
    "            DG.nodes[node][\"color\"] = \"yellow\"\n",
    "        elif len([i for i in DG.out_edges(node) if DG.edges[i]['direction'] == 'east']) > 0:\n",
    "            DG.nodes[node][\"nodetype\"] = \"source\"\n",
    "            DG.nodes[node][\"color\"] = \"green\"\n",
    "        else:\n",
    "            DG.nodes[node][\"nodetype\"] = \"sink\"\n",
    "            DG.nodes[node][\"color\"] = \"red\"\n",
    "    elif DG.nodes[node][\"cartesian\"][0] == 10: # east border\n",
    "        if DG.nodes[node][\"cartesian\"][1] in [4, 12, 27]:\n",
    "            DG.nodes[node][\"nodetype\"] = \"source_sink\"\n",
    "            DG.nodes[node][\"color\"] = \"yellow\"\n",
    "        elif len([i for i in DG.out_edges(node) if DG.edges[i]['direction'] == 'west']) > 0:\n",
    "            DG.nodes[node][\"nodetype\"] = \"source\"\n",
    "            DG.nodes[node][\"color\"] = \"green\"\n",
    "        else:\n",
    "            DG.nodes[node][\"nodetype\"] = \"sink\"\n",
    "            DG.nodes[node][\"color\"] = \"red\"\n",
    "    elif DG.nodes[node][\"cartesian\"][1] == 28: # north border\n",
    "        if DG.nodes[node][\"cartesian\"][0] == 9:\n",
    "            DG.nodes[node][\"nodetype\"] = \"source_sink\"\n",
    "            DG.nodes[node][\"color\"] = \"yellow\"\n",
    "        elif len([i for i in DG.out_edges(node) if DG.edges[i]['direction'] == 'south']) > 0:\n",
    "            DG.nodes[node][\"nodetype\"] = \"source\"\n",
    "            DG.nodes[node][\"color\"] = \"green\"\n",
    "        else:\n",
    "            DG.nodes[node][\"nodetype\"] = \"sink\"\n",
    "            DG.nodes[node][\"color\"] = \"red\"                \n",
    "    elif DG.nodes[node][\"cartesian\"][1] == 0: # south border\n",
    "        if DG.nodes[node][\"cartesian\"][0] == 9:\n",
    "            DG.nodes[node][\"nodetype\"] = \"source_sink\"\n",
    "            DG.nodes[node][\"color\"] = \"yellow\"\n",
    "        elif len([i for i in DG.out_edges(node) if DG.edges[i]['direction'] == 'north']) > 0:\n",
    "            DG.nodes[node][\"nodetype\"] = \"source\"\n",
    "            DG.nodes[node][\"color\"] = \"green\"\n",
    "        else:\n",
    "            DG.nodes[node][\"nodetype\"] = \"sink\"\n",
    "            DG.nodes[node][\"color\"] = \"red\"        \n",
    "    \n",
    "    \n",
    "    #if border:\n",
    "     #   print(DG.nodes[node][\"name\"])\n",
    "        #DG.nodes[node][\"nodetype\"] = \"source\"\n",
    "        #DG.nodes[node][\"color\"] = \"green\"\n",
    "#     elif border:\n",
    "#         DG.nodes[node][\"nodetype\"] = \"sink\"\n",
    "#         DG.nodes[node][\"color\"] = \"red\""
   ]
  },
  {
   "cell_type": "code",
   "execution_count": null,
   "metadata": {},
   "outputs": [],
   "source": [
    "mins = [i*60 for i in list(range(24))]\n",
    "rate = [int(i) for i in list(np.ones(24)*2)]\n",
    "\n",
    "defaultrate = dict(zip(mins,rate))\n",
    "\n",
    "for node in DG.nodes:\n",
    "    if \"source\" in DG.nodes[node][\"nodetype\"]:\n",
    "        DG.nodes[node][\"volume_rate\"] = defaultrate"
   ]
  },
  {
   "cell_type": "code",
   "execution_count": null,
   "metadata": {},
   "outputs": [],
   "source": []
  },
  {
   "cell_type": "code",
   "execution_count": null,
   "metadata": {},
   "outputs": [],
   "source": [
    "mins = [i*60 for i in list(range(24))]\n",
    "rate = [int(i) for i in list(np.ones(24)*2)]\n",
    "\n",
    "defaultrate = dict(zip(mins,rate))\n",
    "defaultrate"
   ]
  },
  {
   "cell_type": "code",
   "execution_count": null,
   "metadata": {},
   "outputs": [],
   "source": [
    "pos = nx.get_node_attributes(DG,'cartesian')\n",
    "nodecol = nx.get_node_attributes(DG, 'color').values()\n",
    "nodename = nx.get_node_attributes(DG, 'name')\n",
    "\n",
    "plt.figure(figsize=(10,20)) \n",
    "nx.draw(DG, \n",
    "        pos, \n",
    "        width=2,\n",
    "        node_color=nodecol,\n",
    "        font_color='blue',\n",
    "        node_size=500,\n",
    "        with_labels=True)\n",
    "    \n",
    "stnames = nx.get_edge_attributes(DG,\"name\")\n",
    "for key in stnames:\n",
    "    stnames[key] = stnames[key][:5]\n",
    "    \n",
    "#nx.draw_networkx_edge_labels(DG,pos,edge_labels=stnames,font_color='black')\n",
    "\n",
    "plt.show()"
   ]
  },
  {
   "cell_type": "code",
   "execution_count": null,
   "metadata": {},
   "outputs": [],
   "source": [
    "import networkx as nx\n",
    "import matplotlib.pyplot as plt\n",
    "import pprint\n",
    "#from GraphTest import DG\n",
    "import time\n",
    "\n",
    "# Dict of all paths from every source to every sink.\n",
    "# This gives all the routes. It is a dict that maps\n",
    "# (source, sink): [list of routes in ascending order of size]\n",
    "\n",
    "#Min path size - we can adjust this\n",
    "MIN_PATH_SIZE = 5\n",
    "\n",
    "\n",
    "def filter_edge(edge, node, sink):\n",
    "    if DG.nodes[sink]['cartesian'][0]-DG.nodes[node]['cartesian'][0] < 0 and DG.edges[edge]['direction'] == 'west':\n",
    "        return True\n",
    "    if DG.nodes[sink]['cartesian'][0]-DG.nodes[node]['cartesian'][0] > 0 and DG.edges[edge]['direction'] == 'east':\n",
    "        return True\n",
    "    if DG.nodes[sink]['cartesian'][1]-DG.nodes[node]['cartesian'][1] < 0 and DG.edges[edge]['direction'] == 'south':\n",
    "        return True\n",
    "    if DG.nodes[sink]['cartesian'][1]-DG.nodes[node]['cartesian'][1] > 0 and DG.edges[edge]['direction'] == 'north':\n",
    "        return True\n",
    "    if (DG.nodes[sink]['cartesian'][0]-DG.nodes[node]['cartesian'][0] == 0 and \n",
    "        DG.nodes[sink]['cartesian'][1]-DG.nodes[node]['cartesian'][1] < 0 and\n",
    "        DG.edges[edge]['direction'] == 'south'):\n",
    "        return True\n",
    "    if (DG.nodes[sink]['cartesian'][0]-DG.nodes[node]['cartesian'][0] == 0 and \n",
    "        DG.nodes[sink]['cartesian'][1]-DG.nodes[node]['cartesian'][1] > 0 and\n",
    "        DG.edges[edge]['direction'] == 'north'):\n",
    "        return True\n",
    "    if (DG.nodes[sink]['cartesian'][1]-DG.nodes[node]['cartesian'][1] == 0 and \n",
    "        DG.nodes[sink]['cartesian'][0]-DG.nodes[node]['cartesian'][0] < 0 and\n",
    "        DG.edges[edge]['direction'] == 'west'):\n",
    "        return True\n",
    "    if (DG.nodes[sink]['cartesian'][1]-DG.nodes[node]['cartesian'][1] == 0 and \n",
    "        DG.nodes[sink]['cartesian'][0]-DG.nodes[node]['cartesian'][0] > 0 and\n",
    "        DG.edges[edge]['direction'] == 'east'):\n",
    "        return True\n",
    "    return False                                           \n",
    "\n",
    "def discover_paths(node, sink, pair, visited, cur_path, paths):        \n",
    "        # Mark the current node as visited and push it to the path\n",
    "        visited[node] = True\n",
    "        cur_path.append(node)\n",
    "\n",
    "        # If we have reached the sink, store the path in paths\n",
    "        if node == sink:\n",
    "            new_path = []\n",
    "            for n in cur_path:\n",
    "                new_path.append(n)\n",
    "            if len(new_path) >= MIN_PATH_SIZE:\n",
    "                paths[pair].append(new_path)\n",
    "        # Otherwise, continue DFS for unvisited neighbors\n",
    "        else:\n",
    "            for edge in DG.out_edges(node):\n",
    "                nbh = edge[1]\n",
    "                if filter_edge(edge, node, sink):\n",
    "                    if visited[nbh] is False:\n",
    "                        discover_paths(nbh, sink, pair, visited, cur_path, paths)\n",
    "\n",
    "        # If we have finished exploring the node, set it to unvisited and\n",
    "        # remove it from cur_path so that we can use it again for future paths\n",
    "        visited[node] = False\n",
    "        cur_path.pop()\n"
   ]
  },
  {
   "cell_type": "code",
   "execution_count": null,
   "metadata": {},
   "outputs": [],
   "source": [
    "paths = dict()\n",
    "s = 2\n",
    "t = 207\n",
    "pair = (s,t)\n",
    "paths[pair] = []\n",
    "# List storing the current path from source to sink\n",
    "cur_path = []\n",
    "# Visited dict for nodes\n",
    "visited = dict()\n",
    "for node in DG.nodes:\n",
    "    visited[node] = False\n",
    "# Generate all possible paths\n",
    "discover_paths(s, t, pair, visited, cur_path, paths)\n",
    "paths[pair].sort(key=lambda x : len(x))\n",
    "print(pair)"
   ]
  },
  {
   "cell_type": "code",
   "execution_count": null,
   "metadata": {},
   "outputs": [],
   "source": [
    "import json\n",
    "\n",
    "with open(\"test.json\", 'w') as outf:\n",
    "    jsonformat = json.dumps({\"%s|%s\" % k:v for k, v in paths.items()})\n",
    "    outf.write(jsonformat)"
   ]
  },
  {
   "cell_type": "code",
   "execution_count": null,
   "metadata": {},
   "outputs": [],
   "source": [
    "with open(\"test.json\", \"r\") as inf:\n",
    "    data = json.load(inf)\n",
    "    pairdict = {tuple([int(i) for i in k.split(\"|\")]): v for k, v in data.items()}\n",
    "    "
   ]
  },
  {
   "cell_type": "code",
   "execution_count": null,
   "metadata": {},
   "outputs": [],
   "source": [
    "import datetime\n",
    "datetime.date(2021,5,15) - datetime.date(2021,4,4)"
   ]
  },
  {
   "cell_type": "code",
   "execution_count": null,
   "metadata": {},
   "outputs": [],
   "source": [
    "json.dumps({\"%s|%s\" % k:v for k, v in paths.items()})"
   ]
  },
  {
   "cell_type": "code",
   "execution_count": null,
   "metadata": {},
   "outputs": [],
   "source": [
    "for i, n in enumerate(DG.edges):\n",
    "    print(n)"
   ]
  },
  {
   "cell_type": "code",
   "execution_count": null,
   "metadata": {},
   "outputs": [],
   "source": []
  },
  {
   "cell_type": "code",
   "execution_count": null,
   "metadata": {},
   "outputs": [],
   "source": [
    "filt = set(itertools.chain.from_iterable(paths[pair]))"
   ]
  },
  {
   "cell_type": "code",
   "execution_count": null,
   "metadata": {},
   "outputs": [],
   "source": [
    "pos = nx.get_node_attributes(DG.subgraph(list(filt)),'cartesian')\n",
    "nodecol = nx.get_node_attributes(DG.subgraph(list(filt)), 'color').values()\n",
    "nodename = nx.get_node_attributes(DG.subgraph(list(filt)), 'name')\n",
    "\n",
    "plt.figure(figsize=(15,5)) \n",
    "nx.draw(DG.subgraph(list(filt)), \n",
    "        pos, \n",
    "        width=2,\n",
    "        node_color=nodecol,\n",
    "        font_color='blue',\n",
    "        node_size=500,\n",
    "        with_labels=True)\n",
    "    \n",
    "stnames = nx.get_edge_attributes(DG.subgraph(list(filt)),\"name\")\n",
    "for key in stnames:\n",
    "    stnames[key] = stnames[key][:5]\n",
    "    \n",
    "nx.draw_networkx_edge_labels(DG.subgraph(list(filt)),pos,edge_labels=stnames,font_color='black')\n",
    "\n",
    "plt.show()"
   ]
  },
  {
   "cell_type": "code",
   "execution_count": null,
   "metadata": {},
   "outputs": [],
   "source": [
    "with open(\"microsimulation/sumoDataGeneration/data/pathdict.json\", 'r') as inf:\n",
    "    paths = json.load(inf)\n",
    "    paths = {tuple([int(i) for i in k.split(\"|\")]): v for k, v in paths.items()}"
   ]
  },
  {
   "cell_type": "code",
   "execution_count": null,
   "metadata": {},
   "outputs": [],
   "source": [
    "[i for i in paths if i['path_id' == 1]]"
   ]
  },
  {
   "cell_type": "code",
   "execution_count": null,
   "metadata": {},
   "outputs": [],
   "source": [
    "import os\n",
    "import pandas\n",
    "\n",
    "path = os.path.join(os.getcwd(),\"microsimulation\",\"Lambdas\",\"lambdas.csv\")\n",
    "df = pandas.read_csv(path)"
   ]
  },
  {
   "cell_type": "code",
   "execution_count": null,
   "metadata": {},
   "outputs": [],
   "source": [
    "df.interval.unique()"
   ]
  },
  {
   "cell_type": "code",
   "execution_count": null,
   "metadata": {},
   "outputs": [],
   "source": [
    "df.groupby(['hour','minute']).agg({'node_id':\"nunique\"}).shape"
   ]
  },
  {
   "cell_type": "code",
   "execution_count": null,
   "metadata": {},
   "outputs": [],
   "source": [
    "df = df.drop(['road_name','segment_start','segment_end','direction','interval'],axis=1)"
   ]
  },
  {
   "cell_type": "code",
   "execution_count": null,
   "metadata": {},
   "outputs": [],
   "source": [
    "df.lambda_car = df.lambda_car * 5"
   ]
  },
  {
   "cell_type": "code",
   "execution_count": null,
   "metadata": {},
   "outputs": [],
   "source": [
    "df = df.groupby(['node_id','year','month','day','hour','minute']).mean()['lambda_car'].to_frame().reset_index()"
   ]
  },
  {
   "cell_type": "code",
   "execution_count": null,
   "metadata": {},
   "outputs": [],
   "source": [
    "df.lambda_car = df.lambda_car.fillna(0).astype(int)"
   ]
  },
  {
   "cell_type": "code",
   "execution_count": null,
   "metadata": {},
   "outputs": [],
   "source": [
    "df[df.node_id == 202].sort_values(\"lambda_car\")"
   ]
  },
  {
   "cell_type": "code",
   "execution_count": null,
   "metadata": {},
   "outputs": [],
   "source": [
    "coords = pandas.DataFrame([[i, DG.nodes[i]['cartesian'][0], DG.nodes[i]['cartesian'][1]] for i in DG.nodes if 'source' in DG.nodes[i]['nodetype']], columns=['node_id','x','y'])"
   ]
  },
  {
   "cell_type": "code",
   "execution_count": null,
   "metadata": {},
   "outputs": [],
   "source": [
    "coords"
   ]
  },
  {
   "cell_type": "code",
   "execution_count": null,
   "metadata": {},
   "outputs": [],
   "source": [
    "coords.loc[coords.x == 0,'edge'] = \"West\"\n",
    "coords.loc[coords.x == 10,'edge'] = \"East\"\n",
    "coords.loc[coords.y == 0,'edge'] = \"South\"\n",
    "coords.loc[coords.y == 28,'edge'] = \"North\""
   ]
  },
  {
   "cell_type": "code",
   "execution_count": null,
   "metadata": {},
   "outputs": [],
   "source": [
    "coords = coords.set_index('node_id')"
   ]
  },
  {
   "cell_type": "code",
   "execution_count": null,
   "metadata": {},
   "outputs": [],
   "source": [
    "df = df.set_index('node_id')"
   ]
  },
  {
   "cell_type": "code",
   "execution_count": null,
   "metadata": {},
   "outputs": [],
   "source": [
    "#pandas.__version__"
   ]
  },
  {
   "cell_type": "code",
   "execution_count": null,
   "metadata": {},
   "outputs": [],
   "source": [
    "coords.loc[coords.index.difference(df.index)]"
   ]
  },
  {
   "cell_type": "code",
   "execution_count": null,
   "metadata": {},
   "outputs": [],
   "source": [
    "coords = coords.reset_index()"
   ]
  },
  {
   "cell_type": "code",
   "execution_count": null,
   "metadata": {},
   "outputs": [],
   "source": [
    "test = coords.set_index(['x','y'])"
   ]
  },
  {
   "cell_type": "code",
   "execution_count": null,
   "metadata": {},
   "outputs": [],
   "source": [
    "df = coords.join(df, how='left')"
   ]
  },
  {
   "cell_type": "code",
   "execution_count": null,
   "metadata": {},
   "outputs": [],
   "source": [
    "df = df.reset_index()"
   ]
  },
  {
   "cell_type": "code",
   "execution_count": null,
   "metadata": {},
   "outputs": [],
   "source": [
    "df"
   ]
  },
  {
   "cell_type": "code",
   "execution_count": null,
   "metadata": {},
   "outputs": [],
   "source": [
    "df['missing'] = df['year'].isnull().astype(int)"
   ]
  },
  {
   "cell_type": "code",
   "execution_count": null,
   "metadata": {},
   "outputs": [],
   "source": [
    "temp = df[['node_id','x','y','edge','missing']].drop_duplicates()"
   ]
  },
  {
   "cell_type": "code",
   "execution_count": null,
   "metadata": {},
   "outputs": [],
   "source": [
    "temp.groupby('edge').agg({\"missing\":['sum','count']})"
   ]
  },
  {
   "cell_type": "code",
   "execution_count": null,
   "metadata": {},
   "outputs": [],
   "source": [
    "df.to_csv(\"visual.csv\")"
   ]
  },
  {
   "cell_type": "code",
   "execution_count": null,
   "metadata": {},
   "outputs": [],
   "source": [
    "import pandas"
   ]
  },
  {
   "cell_type": "code",
   "execution_count": null,
   "metadata": {},
   "outputs": [],
   "source": [
    "import os"
   ]
  },
  {
   "cell_type": "code",
   "execution_count": null,
   "metadata": {},
   "outputs": [],
   "source": [
    "file = r\"/Users/hsajer3/NYU/bdad/BDAD_Violet_Noise/microsimulation/sumoDataGeneration/data/my_route.rou.xml\""
   ]
  },
  {
   "cell_type": "code",
   "execution_count": null,
   "metadata": {},
   "outputs": [],
   "source": [
    "import xml.etree.ElementTree as ET\n",
    "tree = ET.parse(file)\n",
    "root = tree.getroot()"
   ]
  },
  {
   "cell_type": "code",
   "execution_count": null,
   "metadata": {},
   "outputs": [],
   "source": [
    "busses = []\n",
    "cars = []\n",
    "for i in root.iter(\"vehicle\"):\n",
    "    if i.attrib[\"type\"] == \"Bus\":\n",
    "        busses.append(i.attrib)\n",
    "    else:\n",
    "        cars.append(i.attrib)"
   ]
  },
  {
   "cell_type": "code",
   "execution_count": null,
   "metadata": {},
   "outputs": [],
   "source": [
    "busses = pandas.DataFrame.from_records(busses)"
   ]
  },
  {
   "cell_type": "code",
   "execution_count": null,
   "metadata": {},
   "outputs": [],
   "source": [
    "routes = []\n",
    "for i in root.iter(\"route\"):\n",
    "    routes.append(i.attrib)"
   ]
  },
  {
   "cell_type": "code",
   "execution_count": null,
   "metadata": {},
   "outputs": [],
   "source": [
    "routes = pandas.DataFrame.from_records(routes)"
   ]
  },
  {
   "cell_type": "code",
   "execution_count": null,
   "metadata": {},
   "outputs": [],
   "source": [
    "routes = routes.rename(columns={\"id\":\"route\"})"
   ]
  },
  {
   "cell_type": "code",
   "execution_count": null,
   "metadata": {},
   "outputs": [],
   "source": [
    "busrte = busses.merge(routes,how='inner')[['route','edges']].drop_duplicates()"
   ]
  },
  {
   "cell_type": "code",
   "execution_count": null,
   "metadata": {},
   "outputs": [],
   "source": [
    "import re\n",
    "busrte.edges = busrte.edges.apply(lambda s: re.split(\" \",s))"
   ]
  },
  {
   "cell_type": "code",
   "execution_count": null,
   "metadata": {},
   "outputs": [],
   "source": [
    "busrte['start'] = busrte.edges.apply(lambda s: s[0].replace(\"Lexington\",\"Lexingtn\").split('to')[0])"
   ]
  },
  {
   "cell_type": "code",
   "execution_count": null,
   "metadata": {},
   "outputs": [],
   "source": [
    "busrte['end'] = busrte.edges.apply(lambda s: s[-1].replace(\"Lexington\",\"Lexingtn\").split('to')[1])"
   ]
  },
  {
   "cell_type": "code",
   "execution_count": null,
   "metadata": {},
   "outputs": [],
   "source": [
    "nodes = pandas.DataFrame.from_records([[i, DG.nodes[i]['name']] for i in DG.nodes],columns=[\"node_id\",\"node_name\"])"
   ]
  },
  {
   "cell_type": "code",
   "execution_count": null,
   "metadata": {},
   "outputs": [],
   "source": [
    "nodes.node_name = nodes.node_name.apply(lambda s: s.replace(\"Lexington\",\"Lexingtn\"))"
   ]
  },
  {
   "cell_type": "code",
   "execution_count": null,
   "metadata": {},
   "outputs": [],
   "source": [
    "busrte = busrte.merge(nodes.rename(columns={\"node_name\":\"start\"}),how='left').rename(columns={\"node_id\":\"start_id\"})"
   ]
  },
  {
   "cell_type": "code",
   "execution_count": null,
   "metadata": {},
   "outputs": [],
   "source": [
    "busrte = busrte.merge(nodes.rename(columns={\"node_name\":\"end\"}),how='left').rename(columns={\"node_id\":\"end_id\"})"
   ]
  },
  {
   "cell_type": "code",
   "execution_count": null,
   "metadata": {},
   "outputs": [],
   "source": [
    "#busrte.sort_values(['start_id'])"
   ]
  },
  {
   "cell_type": "code",
   "execution_count": null,
   "metadata": {},
   "outputs": [],
   "source": [
    "import json"
   ]
  },
  {
   "cell_type": "code",
   "execution_count": null,
   "metadata": {},
   "outputs": [],
   "source": [
    "file2 = r\"/Users/hsajer3/NYU/bdad/BDAD_Violet_Noise/microsimulation/sumoDataGeneration/data/busschedule.json\""
   ]
  },
  {
   "cell_type": "code",
   "execution_count": null,
   "metadata": {},
   "outputs": [],
   "source": [
    "with open(file2,\"r\") as ins:\n",
    "    f = json.loads(ins.read())"
   ]
  },
  {
   "cell_type": "code",
   "execution_count": null,
   "metadata": {},
   "outputs": [],
   "source": [
    "stops = set(pandas.DataFrame.from_records(f)['stops'].sum())"
   ]
  },
  {
   "cell_type": "code",
   "execution_count": null,
   "metadata": {},
   "outputs": [],
   "source": [
    "stopmap = dict()\n",
    "for i, v in enumerate(stops):\n",
    "    stopmap[v] = \"station%s\" % i\n",
    "    print(\"<busStop id=\\\"station%s\\\" lane=\\\"%s\\\"/>\" % (i,v))"
   ]
  },
  {
   "cell_type": "code",
   "execution_count": null,
   "metadata": {},
   "outputs": [],
   "source": [
    "buspath = pandas.DataFrame.from_records(f)\n",
    "buspath.stops = buspath.stops.apply(lambda s: [stopmap[i] for i in s])"
   ]
  },
  {
   "cell_type": "code",
   "execution_count": null,
   "metadata": {},
   "outputs": [],
   "source": [
    "with open(r\"/Users/hsajer3/NYU/bdad/BDAD_Violet_Noise/microsimulation/sumoDataGeneration/data/busschedule2.json\", \"w\") as out:\n",
    "    out.write(buspath.to_json(orient='records'))"
   ]
  },
  {
   "cell_type": "code",
   "execution_count": null,
   "metadata": {},
   "outputs": [],
   "source": [
    "with open(file2,\"r\") as ins:\n",
    "    f = json.loads(ins.read())"
   ]
  },
  {
   "cell_type": "code",
   "execution_count": null,
   "metadata": {},
   "outputs": [],
   "source": [
    "#tuple([int(i) for i in k.split(\"|\")]): v for k, v in busroute.items()\n",
    " \n",
    "for record in f:\n",
    "    key = record['busroute']\n",
    "    record['busroute'] = tuple([int(i) for i in key.split(\"|\")])"
   ]
  },
  {
   "cell_type": "code",
   "execution_count": null,
   "metadata": {},
   "outputs": [],
   "source": [
    "with open(r\"/Users/hsajer3/NYU/bdad/BDAD_Violet_Noise/microsimulation/sumoDataGeneration/data/pathdict.json\", 'r') as inf:\n",
    "    paths = json.load(inf)\n",
    "    paths = {tuple([int(i) for i in k.split(\"|\")]): v for k, v in paths.items()}"
   ]
  },
  {
   "cell_type": "code",
   "execution_count": null,
   "metadata": {},
   "outputs": [],
   "source": [
    "vehicle_id = 0\n",
    "vehicle_assigns = []\n",
    "for hour in range(24):\n",
    "    for bus in f:\n",
    "        if hour in bus['active_hrs']:\n",
    "            options = paths[bus['busroute']]\n",
    "            path_id = [i[\"path_id\"] for i in options if i[\"turns\"] <=1][0]\n",
    "            vehicle_id += 1\n",
    "            minute = bus['start_min'] + hour*60\n",
    "            vehiclestr = '<vehicle depart=\"{}\" id=\"veh{}\" route=\"route{}\" type=\"{}\">\\n'.format(minute, vehicle_id, path_id, \"Bus\")\n",
    "            stopstr = \"\".join([\"<stop busStop=\\\"%s\\\" duration=\\\"20\\\"/>\\n\" % i for i in bus['stops']])\n",
    "            vehiclestr = vehiclestr + stopstr + \"</vehicle>\\n\"\n",
    "            \n",
    "            vehicle_assigns.append(assignment)"
   ]
  },
  {
   "cell_type": "code",
   "execution_count": null,
   "metadata": {},
   "outputs": [],
   "source": []
  },
  {
   "cell_type": "code",
   "execution_count": null,
   "metadata": {},
   "outputs": [],
   "source": [
    "    <vehicle id=\"0\" type=\"BUS\" depart=\"0\" color=\"1,1,0\">\n",
    "        <route edges=\"2/0to2/1 2/1to1/1 1/1to1/2 1/2to0/2 0/2to0/1 0/1to0/0 0/0to1/0 1/0to2/0 2/0to2/1\"/>\n",
    "        <stop busStop=\"busstop1\" duration=\"20\"/>\n",
    "        <stop busStop=\"busstop2\" duration=\"20\"/>\n",
    "        <stop busStop=\"busstop3\" duration=\"20\"/>\n",
    "        <stop busStop=\"busstop4\" duration=\"20\"/>\n",
    "    </vehicle>"
   ]
  },
  {
   "cell_type": "code",
   "execution_count": null,
   "metadata": {},
   "outputs": [],
   "source": [
    "import pickle\n",
    "with open(\"/Users/hsajer3/NYU/bdad/BDAD_Violet_Noise/microsimulation/sumoDataGeneration/data/graph.p\", \"rb\") as f:\n",
    "    DG = pickle.load(f)"
   ]
  },
  {
   "cell_type": "code",
   "execution_count": null,
   "metadata": {},
   "outputs": [],
   "source": [
    "DG.nodes[0]"
   ]
  },
  {
   "cell_type": "code",
   "execution_count": null,
   "metadata": {},
   "outputs": [],
   "source": [
    "[\"Car1\"]*2"
   ]
  },
  {
   "cell_type": "code",
   "execution_count": null,
   "metadata": {},
   "outputs": [],
   "source": [
    "rates = pandas.read_csv(\"visual.csv\")"
   ]
  },
  {
   "cell_type": "code",
   "execution_count": null,
   "metadata": {},
   "outputs": [],
   "source": [
    "rates.loc[rates['simgrouping'].isnull(),\"simgrouping\"] = rates.loc[rates['simgrouping'].isnull(),\"node_id\"].astype(str).apply(lambda s: \"sgrp_\"+s)"
   ]
  },
  {
   "cell_type": "code",
   "execution_count": null,
   "metadata": {},
   "outputs": [],
   "source": [
    "rates = rates[['node_id','simgrouping','hour','minute','lambda_car']]"
   ]
  },
  {
   "cell_type": "code",
   "execution_count": null,
   "metadata": {},
   "outputs": [],
   "source": [
    "idgrp = rates[['node_id','simgrouping']].drop_duplicates()"
   ]
  },
  {
   "cell_type": "code",
   "execution_count": null,
   "metadata": {},
   "outputs": [],
   "source": [
    "rates = rates.groupby(['node_id','simgrouping','hour','minute'],as_index=False).mean()"
   ]
  },
  {
   "cell_type": "code",
   "execution_count": null,
   "metadata": {},
   "outputs": [],
   "source": [
    "rates.loc[:,['hour','minute']] = rates.loc[:,['hour','minute']].astype(int)"
   ]
  },
  {
   "cell_type": "code",
   "execution_count": null,
   "metadata": {},
   "outputs": [],
   "source": [
    "rates.hour = rates.hour - 1"
   ]
  },
  {
   "cell_type": "code",
   "execution_count": null,
   "metadata": {},
   "outputs": [],
   "source": [
    "rates['totalmin'] = rates.hour * 60 + rates.minute"
   ]
  },
  {
   "cell_type": "code",
   "execution_count": null,
   "metadata": {},
   "outputs": [],
   "source": [
    "smooth = rates.groupby(['simgrouping','totalmin']).agg({\"lambda_car\":\"mean\"})"
   ]
  },
  {
   "cell_type": "code",
   "execution_count": null,
   "metadata": {},
   "outputs": [],
   "source": [
    "smooth = smooth.reset_index().sort_values('totalmin')"
   ]
  },
  {
   "cell_type": "code",
   "execution_count": null,
   "metadata": {},
   "outputs": [],
   "source": []
  },
  {
   "cell_type": "code",
   "execution_count": null,
   "metadata": {},
   "outputs": [],
   "source": [
    "smooth['rollinglambda'] = smooth.groupby('simgrouping')['lambda_car'].transform(lambda x: x.rolling(4, 1).mean())"
   ]
  },
  {
   "cell_type": "code",
   "execution_count": null,
   "metadata": {},
   "outputs": [],
   "source": [
    "smooth.simgrouping.unique()"
   ]
  },
  {
   "cell_type": "code",
   "execution_count": null,
   "metadata": {},
   "outputs": [],
   "source": [
    "smooth[smooth.simgrouping == 'sgrp_222'][['totalmin','rollinglambda']].plot.line(x='totalmin',y='rollinglambda')"
   ]
  },
  {
   "cell_type": "code",
   "execution_count": null,
   "metadata": {},
   "outputs": [],
   "source": [
    "smooth"
   ]
  },
  {
   "cell_type": "code",
   "execution_count": null,
   "metadata": {},
   "outputs": [],
   "source": [
    "thing = smooth.drop(['lambda_car'],axis=1).set_index('totalmin').groupby('simgrouping').apply(lambda s: s.to_dict(orient='index'))"
   ]
  },
  {
   "cell_type": "code",
   "execution_count": null,
   "metadata": {},
   "outputs": [],
   "source": [
    "import math\n",
    "smooth.rollinglambda = smooth.rollinglambda.apply(lambda s: round(s,2))"
   ]
  },
  {
   "cell_type": "code",
   "execution_count": null,
   "metadata": {},
   "outputs": [],
   "source": [
    "lambdamap = dict()\n",
    "\n",
    "for i in smooth['simgrouping'].unique():\n",
    "    lambdamap[i] = smooth[smooth.simgrouping == i].set_index('totalmin')['rollinglambda'].to_dict()"
   ]
  },
  {
   "cell_type": "code",
   "execution_count": null,
   "metadata": {},
   "outputs": [],
   "source": [
    "nodelambdas = idgrp.set_index('node_id')['simgrouping'].to_dict()"
   ]
  },
  {
   "cell_type": "code",
   "execution_count": null,
   "metadata": {},
   "outputs": [],
   "source": [
    "for k in nodelambdas:\n",
    "    nodelambdas[k] = lambdamap[nodelambdas[k]]"
   ]
  },
  {
   "cell_type": "code",
   "execution_count": null,
   "metadata": {},
   "outputs": [],
   "source": [
    "check = set(nodelambdas.keys())"
   ]
  },
  {
   "cell_type": "code",
   "execution_count": null,
   "metadata": {},
   "outputs": [],
   "source": [
    "cmp = set([i for i in DG.nodes if \"source\" in DG.nodes[i][\"nodetype\"]])"
   ]
  },
  {
   "cell_type": "code",
   "execution_count": 25,
   "metadata": {},
   "outputs": [],
   "source": [
    "import json\n",
    "import pandas\n",
    "\n",
    "with open(r\"/Users/hsajer3/NYU/bdad/BDAD_Violet_Noise/microsimulation/sumoDataGeneration/data/nodelambdas.json\", 'r') as inf:\n",
    "    lambdas = json.load(inf)\n",
    "    lambdas = {int(k):{int(i):j for i,j in v.items()} for k, v in lambdas.items()}"
   ]
  },
  {
   "cell_type": "code",
   "execution_count": 26,
   "metadata": {},
   "outputs": [],
   "source": [
    "lambdadf = pandas.DataFrame(lambdas)#.to_dict()"
   ]
  },
  {
   "cell_type": "code",
   "execution_count": 27,
   "metadata": {},
   "outputs": [],
   "source": [
    "avgs = lambdadf.mean(axis=1)#.to_frame()#.plot()"
   ]
  },
  {
   "cell_type": "code",
   "execution_count": 9,
   "metadata": {},
   "outputs": [],
   "source": [
    "lambdadiffs = lambdadf.sub(avgs, axis='index').to_dict()"
   ]
  },
  {
   "cell_type": "code",
   "execution_count": 28,
   "metadata": {},
   "outputs": [],
   "source": [
    "lambdadiffs2 = lambdadf.div(avgs, axis='index').to_dict()"
   ]
  },
  {
   "cell_type": "code",
   "execution_count": 17,
   "metadata": {},
   "outputs": [
    {
     "name": "stdout",
     "output_type": "stream",
     "text": [
      "1.25\n",
      "1.04848717948718\n",
      "0.20151282051282005\n",
      "1.1921938812941717\n"
     ]
    }
   ],
   "source": [
    "print(lambdadf[0][0])\n",
    "print(avgs[0])\n",
    "print(lambdadiffs[0][0])\n",
    "print(lambdadiffs2[0][0])"
   ]
  },
  {
   "cell_type": "code",
   "execution_count": 20,
   "metadata": {},
   "outputs": [
    {
     "data": {
      "text/plain": [
       "1.25"
      ]
     },
     "execution_count": 20,
     "metadata": {},
     "output_type": "execute_result"
    }
   ],
   "source": [
    "lambdadiffs2[0][0]*avgs[0]"
   ]
  },
  {
   "cell_type": "code",
   "execution_count": 23,
   "metadata": {},
   "outputs": [
    {
     "data": {
      "text/plain": [
       "0.569163551191388"
      ]
     },
     "execution_count": 23,
     "metadata": {},
     "output_type": "execute_result"
    }
   ],
   "source": [
    "pandas.DataFrame(lambdadiffs2).min().min()"
   ]
  },
  {
   "cell_type": "code",
   "execution_count": 24,
   "metadata": {},
   "outputs": [
    {
     "data": {
      "text/plain": [
       "5.335122799256652"
      ]
     },
     "execution_count": 24,
     "metadata": {},
     "output_type": "execute_result"
    }
   ],
   "source": [
    "pandas.DataFrame(lambdadiffs2).max().max()"
   ]
  },
  {
   "cell_type": "code",
   "execution_count": null,
   "metadata": {},
   "outputs": [],
   "source": []
  },
  {
   "cell_type": "code",
   "execution_count": null,
   "metadata": {},
   "outputs": [],
   "source": [
    "# 0 - 165\n",
    "\n",
    "# 180 - 405\n",
    "\n",
    "# 795 - 1035"
   ]
  },
  {
   "cell_type": "code",
   "execution_count": 29,
   "metadata": {},
   "outputs": [],
   "source": [
    "outp = r\"/Users/hsajer3/NYU/bdad/BDAD_Violet_Noise/microsimulation/sumoDataGeneration/data/nodelambdaspctdiffs.json\""
   ]
  },
  {
   "cell_type": "code",
   "execution_count": 30,
   "metadata": {},
   "outputs": [],
   "source": [
    "with open(outp,\"w\") as outs:\n",
    "    outs.write(json.dumps(lambdadiffs2))"
   ]
  },
  {
   "cell_type": "code",
   "execution_count": null,
   "metadata": {},
   "outputs": [],
   "source": [
    "test = df[[\"0\",\"1\"]]"
   ]
  },
  {
   "cell_type": "code",
   "execution_count": null,
   "metadata": {},
   "outputs": [],
   "source": [
    "def testfn(a, b):\n",
    "    return (a, b)"
   ]
  },
  {
   "cell_type": "code",
   "execution_count": null,
   "metadata": {},
   "outputs": [],
   "source": [
    "testdf = df[[\"0\",\"1\",\"2\"]]"
   ]
  },
  {
   "cell_type": "code",
   "execution_count": null,
   "metadata": {},
   "outputs": [],
   "source": [
    "gps = df[[\"0\",\"1\"]].applymap(lambda s: max([0.0, s/100]))"
   ]
  },
  {
   "cell_type": "code",
   "execution_count": null,
   "metadata": {},
   "outputs": [],
   "source": [
    "gps = df[[\"0\",\"1\"]].applymap(lambda s: max([0.0, s/100]))\n",
    "gps = gps.apply(lambda s: pandas.Series(get_gps_coords(s[\"0\"],s[\"1\"])),axis=1)\n",
    "gps = gps.rename(columns={\"0\":\"latitude\", \"1\":\"longitude\"})\n",
    "#df = df.join(gps)"
   ]
  },
  {
   "cell_type": "code",
   "execution_count": null,
   "metadata": {},
   "outputs": [],
   "source": [
    "gps"
   ]
  },
  {
   "cell_type": "code",
   "execution_count": null,
   "metadata": {},
   "outputs": [],
   "source": [
    "with open(outp, \"r\") as test:\n",
    "    f = json.load(test)"
   ]
  },
  {
   "cell_type": "code",
   "execution_count": null,
   "metadata": {},
   "outputs": [],
   "source": [
    "df = pandas.read_csv('plot.csv')"
   ]
  },
  {
   "cell_type": "code",
   "execution_count": null,
   "metadata": {},
   "outputs": [],
   "source": [
    "df = df.set_index('Seconds')"
   ]
  },
  {
   "cell_type": "code",
   "execution_count": null,
   "metadata": {},
   "outputs": [],
   "source": [
    "list(range(7))"
   ]
  },
  {
   "cell_type": "code",
   "execution_count": null,
   "metadata": {},
   "outputs": [],
   "source": [
    "import numpy as np\n",
    "cars = int(np.random.poisson(1.23))\n",
    "spread_cars = [min(i,2) for i in np.histogram(list(range(cars)),bins=15,density=False)[0]]\n",
    "timestamps = [i + 19999 for i in range(15)]\n",
    "cars_per_min = [i for i in zip(timestamps, spread_cars) if i[1] > 0]"
   ]
  },
  {
   "cell_type": "code",
   "execution_count": null,
   "metadata": {},
   "outputs": [],
   "source": [
    "cars_per_min"
   ]
  },
  {
   "cell_type": "code",
   "execution_count": null,
   "metadata": {},
   "outputs": [],
   "source": [
    "with open(file2, \"w\") as outs:\n",
    "    outs.write(json.dumps(f))"
   ]
  },
  {
   "cell_type": "code",
   "execution_count": null,
   "metadata": {},
   "outputs": [],
   "source": [
    "3000 - 2*1440"
   ]
  },
  {
   "cell_type": "code",
   "execution_count": null,
   "metadata": {},
   "outputs": [],
   "source": [
    "[list(np.random.normal(1,size=100)) + list(np.random.normal(6,size=100))\n",
    "[\"Bus\"]*100 + [\"car\"]*100"
   ]
  },
  {
   "cell_type": "code",
   "execution_count": null,
   "metadata": {},
   "outputs": [],
   "source": [
    "stationmap = [[\"station0\" ,\"35to36\"],\n",
    "    [\"station1\" ,\"62to33\"],\n",
    "    [\"station2\" ,\"77to76\"],\n",
    "    [\"station3\" ,\"70to41\"],\n",
    "    [\"station4\" ,\"126to125\"],\n",
    "    [\"station5\" ,\"151to152\"],\n",
    "    [\"station6\" ,\"193to194\"],\n",
    "    [\"station7\" ,\"91to120\"],\n",
    "    [\"station8\" ,\"106to77\"],\n",
    "    [\"station9\" ,\"138to137\"],\n",
    "    [\"station10\" ,\"180to179\"],\n",
    "    [\"station11\" ,\"65to64\"],\n",
    "    [\"station12\" ,\"106to107\"],\n",
    "    [\"station13\" ,\"99to128\"],\n",
    "    [\"station14\" ,\"191to190\"],\n",
    "    [\"station15\" ,\"172to143\"],\n",
    "    [\"station16\" ,\"182to183\"],\n",
    "    [\"station17\" ,\"198to197\"],\n",
    "    [\"station18\" ,\"85to114\"],\n",
    "    [\"station19\" ,\"162to163\"],\n",
    "    [\"station20\" ,\"93to94\"],\n",
    "    [\"station21\" ,\"45to46\"]]"
   ]
  },
  {
   "cell_type": "code",
   "execution_count": null,
   "metadata": {},
   "outputs": [],
   "source": [
    "for i in stationmap:\n",
    "    ids = [int(j) for j in i[1].split('to')]\n",
    "    names = [DG.nodes[j][\"name\"] for j in ids]\n",
    "    print (\"busStop=\\\"%s\\\" edge=\\\"%s\\\"\" % (i[0], \"to\".join(names)))"
   ]
  },
  {
   "cell_type": "code",
   "execution_count": 32,
   "metadata": {},
   "outputs": [],
   "source": [
    "import numpy as np\n",
    "\n",
    "start_tm_seconds = 0\n",
    "minute = 15\n",
    "\n",
    "rate = 25\n",
    "cars = int(np.random.poisson(rate))\n",
    "spread_cars = [min(i,2) for i in np.histogram(list(range(cars)),bins=900,density=False)[0]]\n",
    "timestamps = [i + minute*60 + start_tm_seconds for i in range(900)]\n",
    "cars_per_sec = [i for i in zip(timestamps, spread_cars) if i[1] > 0]"
   ]
  },
  {
   "cell_type": "code",
   "execution_count": 39,
   "metadata": {},
   "outputs": [
    {
     "data": {
      "text/plain": [
       "420"
      ]
     },
     "execution_count": 39,
     "metadata": {},
     "output_type": "execute_result"
    }
   ],
   "source": [
    "7*60"
   ]
  },
  {
   "cell_type": "code",
   "execution_count": 41,
   "metadata": {},
   "outputs": [
    {
     "data": {
      "text/plain": [
       "[0]"
      ]
     },
     "execution_count": 41,
     "metadata": {},
     "output_type": "execute_result"
    }
   ],
   "source": [
    "list(range(0,1))"
   ]
  },
  {
   "cell_type": "code",
   "execution_count": 1,
   "metadata": {},
   "outputs": [],
   "source": [
    "import pandas\n",
    "import matplotlib\n",
    "%matplotlib inline"
   ]
  },
  {
   "cell_type": "code",
   "execution_count": 2,
   "metadata": {},
   "outputs": [],
   "source": [
    "df = pandas.read_csv(\"weightcheck.csv\")"
   ]
  },
  {
   "cell_type": "code",
   "execution_count": 13,
   "metadata": {},
   "outputs": [],
   "source": [
    "df = df.set_index('laneid').stack().to_frame().reset_index()\n",
    "df.columns = [\"laneid\",\"hour\",\"count\"]"
   ]
  },
  {
   "cell_type": "code",
   "execution_count": 53,
   "metadata": {},
   "outputs": [
    {
     "data": {
      "text/plain": [
       "<matplotlib.axes._subplots.AxesSubplot at 0x11caede50>"
      ]
     },
     "execution_count": 53,
     "metadata": {},
     "output_type": "execute_result"
    },
    {
     "data": {
      "image/png": "[encoded data removed]",
      "text/plain": [
       "<Figure size 432x288 with 1 Axes>"
      ]
     },
     "metadata": {
      "needs_background": "light"
     },
     "output_type": "display_data"
    }
   ],
   "source": [
    "df[df.laneid.apply(lambda s: \":\" not in s)][\"count\"].apply(lambda s: s +35).hist(bins=100)"
   ]
  },
  {
   "cell_type": "code",
   "execution_count": 54,
   "metadata": {},
   "outputs": [
    {
     "data": {
      "text/plain": [
       "<matplotlib.axes._subplots.AxesSubplot at 0x11cc4eb50>"
      ]
     },
     "execution_count": 54,
     "metadata": {},
     "output_type": "execute_result"
    },
    {
     "data": {
      "image/png": "[encoded data removed]",
      "text/plain": [
       "<Figure size 432x288 with 1 Axes>"
      ]
     },
     "metadata": {
      "needs_background": "light"
     },
     "output_type": "display_data"
    }
   ],
   "source": [
    "df[df.laneid.apply(lambda s: \":\" not in s)][\"count\"].hist(bins=100)"
   ]
  },
  {
   "cell_type": "code",
   "execution_count": null,
   "metadata": {},
   "outputs": [],
   "source": []
  },
  {
   "cell_type": "code",
   "execution_count": 52,
   "metadata": {},
   "outputs": [
    {
     "data": {
      "text/plain": [
       "243.05555555555557"
      ]
     },
     "execution_count": 52,
     "metadata": {},
     "output_type": "execute_result"
    }
   ],
   "source": [
    "(700000/24)/4/30"
   ]
  },
  {
   "cell_type": "code",
   "execution_count": 46,
   "metadata": {},
   "outputs": [
    {
     "data": {
      "text/plain": [
       "<matplotlib.axes._subplots.AxesSubplot at 0x11c82ff90>"
      ]
     },
     "execution_count": 46,
     "metadata": {},
     "output_type": "execute_result"
    },
    {
     "data": {
      "image/png": "[encoded data removed]",
      "text/plain": [
       "<Figure size 432x288 with 1 Axes>"
      ]
     },
     "metadata": {
      "needs_background": "light"
     },
     "output_type": "display_data"
    }
   ],
   "source": [
    "df[df.laneid.apply(lambda s: \":\" not in s)].groupby('hour').mean().plot()"
   ]
  },
  {
   "cell_type": "code",
   "execution_count": 42,
   "metadata": {},
   "outputs": [
    {
     "data": {
      "text/plain": [
       "<matplotlib.axes._subplots.AxesSubplot at 0x11c6e3110>"
      ]
     },
     "execution_count": 42,
     "metadata": {},
     "output_type": "execute_result"
    },
    {
     "data": {
      "image/png": "[encoded data removed]",
      "text/plain": [
       "<Figure size 432x288 with 1 Axes>"
      ]
     },
     "metadata": {
      "needs_background": "light"
     },
     "output_type": "display_data"
    }
   ],
   "source": [
    "df.groupby('hour').sum().plot()"
   ]
  },
  {
   "cell_type": "code",
   "execution_count": 41,
   "metadata": {},
   "outputs": [
    {
     "data": {
      "text/plain": [
       "<matplotlib.axes._subplots.AxesSubplot at 0x11c69b450>"
      ]
     },
     "execution_count": 41,
     "metadata": {},
     "output_type": "execute_result"
    },
    {
     "data": {
      "image/png": "[encoded data removed]",
      "text/plain": [
       "<Figure size 432x288 with 1 Axes>"
      ]
     },
     "metadata": {
      "needs_background": "light"
     },
     "output_type": "display_data"
    }
   ],
   "source": [
    "df.groupby('laneid').sum()['count'].hist(bins=100)"
   ]
  },
  {
   "cell_type": "code",
   "execution_count": null,
   "metadata": {},
   "outputs": [],
   "source": []
  }
 ],
 "metadata": {
  "kernelspec": {
   "display_name": "Python 3.7.4 base3",
   "language": "python",
   "name": "base3env"
  },
  "language_info": {
   "codemirror_mode": {
    "name": "ipython",
    "version": 3
   },
   "file_extension": ".py",
   "mimetype": "text/x-python",
   "name": "python",
   "nbconvert_exporter": "python",
   "pygments_lexer": "ipython3",
   "version": "3.7.4"
  }
 },
 "nbformat": 4,
 "nbformat_minor": 4
}
